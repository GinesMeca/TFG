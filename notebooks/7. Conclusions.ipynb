{
 "cells": [
  {
   "cell_type": "markdown",
   "metadata": {},
   "source": [
    "# 7. Conclusions\n",
    "\n",
    "This notebook will show some conclusions in terms of accuracy and running time of the different models presented in previous notebooks. One more time, the dataset that we will use is [Rain in Australia](https://www.kaggle.com/jsphyg/weather-dataset-rattle-package), available in Kaggle. It contains about 10 years of daily weather observations from many locations across Australia.\n",
    "\n",
    "### Index:\n",
    "1. [Packages required](#1.-Packages-required)\n",
    "2. [Selected models](#2.-Selected-models)\n",
    "3. [Accuracy](#3.-Accuracy)\n",
    "4. [Running time](#4.-Running-time)"
   ]
  },
  {
   "cell_type": "markdown",
   "metadata": {},
   "source": [
    "# 1. Packages required"
   ]
  },
  {
   "cell_type": "code",
   "execution_count": 1,
   "metadata": {},
   "outputs": [],
   "source": [
    "import numpy as np\n",
    "import pandas as pd\n",
    "import matplotlib.pyplot as plt"
   ]
  },
  {
   "cell_type": "markdown",
   "metadata": {},
   "source": [
    "# 2. Selected models"
   ]
  },
  {
   "cell_type": "markdown",
   "metadata": {},
   "source": [
    "According to the models that we built in previous notebooks, we will select the model which maximizes the $Test\\_Gini$ value and which have a $delta\\%$ value smaller than $5\\%$. Following this criterion we will select:\n",
    "* From CART: $DT\\_5$\n",
    "* From Bagging: $Bag\\_100$, $RF\\_100$ and $ET\\_100$.\n",
    "* From Booosting:"
   ]
  },
  {
   "cell_type": "code",
   "execution_count": 4,
   "metadata": {},
   "outputs": [
    {
     "data": {
      "text/html": [
       "<div>\n",
       "<style scoped>\n",
       "    .dataframe tbody tr th:only-of-type {\n",
       "        vertical-align: middle;\n",
       "    }\n",
       "\n",
       "    .dataframe tbody tr th {\n",
       "        vertical-align: top;\n",
       "    }\n",
       "\n",
       "    .dataframe thead th {\n",
       "        text-align: right;\n",
       "    }\n",
       "</style>\n",
       "<table border=\"1\" class=\"dataframe\">\n",
       "  <thead>\n",
       "    <tr style=\"text-align: right;\">\n",
       "      <th></th>\n",
       "      <th>Run_Time</th>\n",
       "      <th>Train_Gini</th>\n",
       "      <th>Test_Gini</th>\n",
       "    </tr>\n",
       "  </thead>\n",
       "  <tbody>\n",
       "    <tr>\n",
       "      <th>DT_5</th>\n",
       "      <td>0.482886</td>\n",
       "      <td>0.655905</td>\n",
       "      <td>0.626416</td>\n",
       "    </tr>\n",
       "    <tr>\n",
       "      <th>Bag_100</th>\n",
       "      <td>27.202286</td>\n",
       "      <td>0.694153</td>\n",
       "      <td>0.669443</td>\n",
       "    </tr>\n",
       "    <tr>\n",
       "      <th>RF_100</th>\n",
       "      <td>6.098359</td>\n",
       "      <td>0.703250</td>\n",
       "      <td>0.679907</td>\n",
       "    </tr>\n",
       "    <tr>\n",
       "      <th>ET_100</th>\n",
       "      <td>3.272801</td>\n",
       "      <td>0.660244</td>\n",
       "      <td>0.639050</td>\n",
       "    </tr>\n",
       "  </tbody>\n",
       "</table>\n",
       "</div>"
      ],
      "text/plain": [
       "          Run_Time  Train_Gini  Test_Gini\n",
       "DT_5      0.482886    0.655905   0.626416\n",
       "Bag_100  27.202286    0.694153   0.669443\n",
       "RF_100    6.098359    0.703250   0.679907\n",
       "ET_100    3.272801    0.660244   0.639050"
      ]
     },
     "execution_count": 4,
     "metadata": {},
     "output_type": "execute_result"
    }
   ],
   "source": [
    "metrics = {}\n",
    "metrics['DT_5'] = {'Run_Time': 0.482886, 'Train_Gini': 0.655905, 'Test_Gini': 0.626416}\n",
    "metrics['Bag_100'] = {'Run_Time': 27.202286, 'Train_Gini': 0.694153, 'Test_Gini': 0.669443}\n",
    "metrics['RF_100'] = {'Run_Time': 6.098359, 'Train_Gini': 0.703250, 'Test_Gini': 0.679907}\n",
    "metrics['ET_100'] = {'Run_Time': 3.272801, 'Train_Gini': 0.660244, 'Test_Gini': 0.639050}\n",
    "#metrics['AdaB_'] = {'Run_Time': , 'Train_Gini': , 'Test_Gini': }\n",
    "#metrics['GB_'] = {'Run_Time': , 'Train_Gini': , 'Test_Gini': }\n",
    "#metrics['XGB_'] = {'Run_Time': , 'Train_Gini': , 'Test_Gini': }\n",
    "#metrics['LGBM_'] = {'Run_Time': , 'Train_Gini': , 'Test_Gini': }\n",
    "#metrics['CatB_'] = {'Run_Time': , 'Train_Gini': , 'Test_Gini': }\n",
    "\n",
    "metrics_pd = pd.DataFrame.from_dict(metrics, orient = 'index', columns = ['Run_Time', 'Train_Gini', 'Test_Gini'])\n",
    "metrics_pd"
   ]
  },
  {
   "cell_type": "markdown",
   "metadata": {},
   "source": [
    "# 3. Accuracy"
   ]
  },
  {
   "cell_type": "markdown",
   "metadata": {},
   "source": [
    "Now, let's see how well are the predictions of the selected models. To show it, we will plot the $Test\\_Gini$ of each model."
   ]
  },
  {
   "cell_type": "code",
   "execution_count": 23,
   "metadata": {},
   "outputs": [
    {
     "data": {
      "image/png": "[encoded data removed]",
      "text/plain": [
       "<Figure size 432x288 with 1 Axes>"
      ]
     },
     "metadata": {
      "needs_background": "light"
     },
     "output_type": "display_data"
    }
   ],
   "source": [
    "x = list(metrics_pd.index)\n",
    "y = list(metrics_pd.Test_Gini)\n",
    "\n",
    "plt.bar(x, y, color = ['blue', 'yellow', 'yellow', 'yellow'])\n",
    "plt.xlabel('Selected models')\n",
    "plt.ylabel('Test_Gini')\n",
    "plt.title('Accuracy')\n",
    "plt.show()"
   ]
  },
  {
   "cell_type": "markdown",
   "metadata": {},
   "source": []
  },
  {
   "cell_type": "markdown",
   "metadata": {},
   "source": [
    "# 4. Running time"
   ]
  },
  {
   "cell_type": "markdown",
   "metadata": {},
   "source": [
    "At this section, we will compare the running times obtained depending on the model."
   ]
  },
  {
   "cell_type": "code",
   "execution_count": 24,
   "metadata": {},
   "outputs": [
    {
     "data": {
      "image/png": "[encoded data removed]",
      "text/plain": [
       "<Figure size 432x288 with 1 Axes>"
      ]
     },
     "metadata": {
      "needs_background": "light"
     },
     "output_type": "display_data"
    }
   ],
   "source": [
    "x = list(metrics_pd.index)\n",
    "y = list(metrics_pd.Run_Time)\n",
    "\n",
    "plt.bar(x, y, color = ['blue', 'yellow', 'yellow', 'yellow'])\n",
    "plt.xlabel('Selected models')\n",
    "plt.ylabel('Run_Time')\n",
    "plt.title('Running time')\n",
    "plt.show()"
   ]
  }
 ],
 "metadata": {
  "kernelspec": {
   "display_name": "Python 3",
   "language": "python",
   "name": "python3"
  },
  "language_info": {
   "codemirror_mode": {
    "name": "ipython",
    "version": 3
   },
   "file_extension": ".py",
   "mimetype": "text/x-python",
   "name": "python",
   "nbconvert_exporter": "python",
   "pygments_lexer": "ipython3",
   "version": "3.8.5"
  }
 },
 "nbformat": 4,
 "nbformat_minor": 4
}
