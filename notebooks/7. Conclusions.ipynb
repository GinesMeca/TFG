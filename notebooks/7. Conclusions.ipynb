{
 "cells": [
  {
   "cell_type": "markdown",
   "metadata": {},
   "source": [
    "# 7. Conclusions\n",
    "\n",
    "This notebook will show some conclusions in terms of accuracy and running time of the different models presented in previous notebooks. One more time, the dataset that we will use is [Rain in Australia](https://www.kaggle.com/jsphyg/weather-dataset-rattle-package), available in Kaggle. It contains about 10 years of daily weather observations from many locations across Australia.\n",
    "\n",
    "### Index:\n",
    "1. [Packages required](#1.-Packages-required)\n",
    "2. [Loading models](#2.-Loading-models)\n",
    "3. [Best models comparison](#3.-Best-models-comparison)\n",
    "4. [Models summary](#4.-Models-summary)"
   ]
  },
  {
   "cell_type": "markdown",
   "metadata": {},
   "source": [
    "# 1. Packages required"
   ]
  },
  {
   "cell_type": "code",
   "execution_count": null,
   "metadata": {},
   "outputs": [],
   "source": [
    "!pip install plotly"
   ]
  },
  {
   "cell_type": "code",
   "execution_count": 67,
   "metadata": {},
   "outputs": [],
   "source": [
    "import numpy as np\n",
    "import pandas as pd\n",
    "import matplotlib.pyplot as plt\n",
    "from plotly.subplots import make_subplots\n",
    "import plotly.graph_objects as go\n",
    "import plotly.express as px"
   ]
  },
  {
   "cell_type": "markdown",
   "metadata": {},
   "source": [
    "# 2. Loading models"
   ]
  },
  {
   "cell_type": "code",
   "execution_count": 193,
   "metadata": {},
   "outputs": [],
   "source": [
    "DT = pd.read_parquet('../data/models/cart.parquet')\n",
    "BAG = pd.read_parquet('../data/models/bag.parquet')\n",
    "RF = pd.read_parquet('../data/models/rf.parquet')\n",
    "ET = pd.read_parquet('../data/models/et.parquet')\n",
    "ADAB = pd.read_parquet('../data/models/adab.parquet')\n",
    "GB = pd.read_parquet('../data/models/gb.parquet')\n",
    "XGB = pd.read_parquet('../data/models/xgb.parquet')\n",
    "LGBM = pd.read_parquet('../data/models/lgbm.parquet')\n",
    "CATB = pd.read_parquet('../data/models/catb.parquet')"
   ]
  },
  {
   "cell_type": "markdown",
   "metadata": {},
   "source": [
    "# 3. Best models comparison"
   ]
  },
  {
   "cell_type": "markdown",
   "metadata": {},
   "source": [
    "According to the models that we built in previous notebooks, for each algorithm, we will select the model which maximizes the $Test\\_Gini$ value and which have a $delta\\%$ value smaller than $5\\%$. Following this criterion we will select:\n",
    "* From CART: $DT\\_5$\n",
    "* From Bagging: $Bag\\_1000$, $RF\\_1000$ and $ET\\_1000$.\n",
    "* From Booosting: $AdaB\\_1000$, $GB\\_50$, $XGB\\_50$, $LGBM\\_50$ and $CatB\\_30$"
   ]
  },
  {
   "cell_type": "code",
   "execution_count": 22,
   "metadata": {},
   "outputs": [
    {
     "data": {
      "text/html": [
       "<div>\n",
       "<style scoped>\n",
       "    .dataframe tbody tr th:only-of-type {\n",
       "        vertical-align: middle;\n",
       "    }\n",
       "\n",
       "    .dataframe tbody tr th {\n",
       "        vertical-align: top;\n",
       "    }\n",
       "\n",
       "    .dataframe thead th {\n",
       "        text-align: right;\n",
       "    }\n",
       "</style>\n",
       "<table border=\"1\" class=\"dataframe\">\n",
       "  <thead>\n",
       "    <tr style=\"text-align: right;\">\n",
       "      <th></th>\n",
       "      <th>Run_Time</th>\n",
       "      <th>Train_Gini</th>\n",
       "      <th>Test_Gini</th>\n",
       "    </tr>\n",
       "  </thead>\n",
       "  <tbody>\n",
       "    <tr>\n",
       "      <th>DT_5</th>\n",
       "      <td>1.151289</td>\n",
       "      <td>0.655905</td>\n",
       "      <td>0.626416</td>\n",
       "    </tr>\n",
       "    <tr>\n",
       "      <th>Bag_1000</th>\n",
       "      <td>575.084719</td>\n",
       "      <td>0.695610</td>\n",
       "      <td>0.670582</td>\n",
       "    </tr>\n",
       "    <tr>\n",
       "      <th>RF_1000</th>\n",
       "      <td>86.533804</td>\n",
       "      <td>0.698128</td>\n",
       "      <td>0.673066</td>\n",
       "    </tr>\n",
       "    <tr>\n",
       "      <th>ET_1000</th>\n",
       "      <td>53.095737</td>\n",
       "      <td>0.655721</td>\n",
       "      <td>0.631647</td>\n",
       "    </tr>\n",
       "    <tr>\n",
       "      <th>AdaB_1000</th>\n",
       "      <td>291.471662</td>\n",
       "      <td>0.749872</td>\n",
       "      <td>0.734451</td>\n",
       "    </tr>\n",
       "    <tr>\n",
       "      <th>GB_50</th>\n",
       "      <td>38.503903</td>\n",
       "      <td>0.776301</td>\n",
       "      <td>0.744640</td>\n",
       "    </tr>\n",
       "    <tr>\n",
       "      <th>XGB_50</th>\n",
       "      <td>2.605901</td>\n",
       "      <td>0.775598</td>\n",
       "      <td>0.742928</td>\n",
       "    </tr>\n",
       "    <tr>\n",
       "      <th>LGBM_50</th>\n",
       "      <td>0.769436</td>\n",
       "      <td>0.777606</td>\n",
       "      <td>0.744632</td>\n",
       "    </tr>\n",
       "    <tr>\n",
       "      <th>CatB_30</th>\n",
       "      <td>3.714761</td>\n",
       "      <td>0.775832</td>\n",
       "      <td>0.741758</td>\n",
       "    </tr>\n",
       "  </tbody>\n",
       "</table>\n",
       "</div>"
      ],
      "text/plain": [
       "             Run_Time  Train_Gini  Test_Gini\n",
       "DT_5         1.151289    0.655905   0.626416\n",
       "Bag_1000   575.084719    0.695610   0.670582\n",
       "RF_1000     86.533804    0.698128   0.673066\n",
       "ET_1000     53.095737    0.655721   0.631647\n",
       "AdaB_1000  291.471662    0.749872   0.734451\n",
       "GB_50       38.503903    0.776301   0.744640\n",
       "XGB_50       2.605901    0.775598   0.742928\n",
       "LGBM_50      0.769436    0.777606   0.744632\n",
       "CatB_30      3.714761    0.775832   0.741758"
      ]
     },
     "execution_count": 22,
     "metadata": {},
     "output_type": "execute_result"
    }
   ],
   "source": [
    "metrics = {}\n",
    "metrics['DT_5'] = dict(DT.iloc[2])\n",
    "metrics['Bag_1000'] = dict(BAG.iloc[-1])\n",
    "metrics['RF_1000'] = dict(RF.iloc[-1])\n",
    "metrics['ET_1000'] = dict(ET.iloc[-1])\n",
    "metrics['AdaB_1000'] = dict(ADAB.iloc[-1])\n",
    "metrics['GB_50'] = dict(GB.iloc[7])\n",
    "metrics['XGB_50'] = dict(XGB.iloc[7])\n",
    "metrics['LGBM_50'] = dict(LGBM.iloc[7])\n",
    "metrics['CatB_30'] = dict(CATB.iloc[6])\n",
    "\n",
    "metrics_pd = pd.DataFrame.from_dict(metrics, orient = 'index', columns = ['Run_Time', 'Train_Gini', 'Test_Gini'])\n",
    "metrics_pd"
   ]
  },
  {
   "cell_type": "markdown",
   "metadata": {},
   "source": [
    "First, we will see how well are the predictions of the selected models. To show it, we will plot the $Test\\_Gini$ of each model."
   ]
  },
  {
   "cell_type": "code",
   "execution_count": 46,
   "metadata": {},
   "outputs": [
    {
     "data": {
      "image/png": "[encoded data removed]",
      "text/plain": [
       "<Figure size 720x288 with 1 Axes>"
      ]
     },
     "metadata": {
      "needs_background": "light"
     },
     "output_type": "display_data"
    }
   ],
   "source": [
    "x = list(metrics_pd.index.values)\n",
    "y = list(metrics_pd.Test_Gini)\n",
    "\n",
    "plt.rcParams[\"figure.figsize\"] = (10,4)\n",
    "plt.bar(x, y, color = ['blue', 'yellow', 'yellow', 'yellow', 'red', 'red', 'red', 'red', 'red'])\n",
    "plt.xlabel('Selected models')\n",
    "plt.ylabel('Test_Gini')\n",
    "plt.title('Accuracy')\n",
    "plt.show()"
   ]
  },
  {
   "cell_type": "markdown",
   "metadata": {},
   "source": [
    "Now, let's compare the running times obtained depending on the model."
   ]
  },
  {
   "cell_type": "code",
   "execution_count": 47,
   "metadata": {},
   "outputs": [
    {
     "data": {
      "image/png": "[encoded data removed]",
      "text/plain": [
       "<Figure size 720x288 with 1 Axes>"
      ]
     },
     "metadata": {
      "needs_background": "light"
     },
     "output_type": "display_data"
    }
   ],
   "source": [
    "x = list(metrics_pd.index)\n",
    "y = list(metrics_pd.Run_Time)\n",
    "\n",
    "plt.rcParams[\"figure.figsize\"] = (10,4)\n",
    "plt.bar(x, y, color = ['blue', 'yellow', 'yellow', 'yellow', 'red', 'red', 'red', 'red', 'red'])\n",
    "plt.xlabel('Selected models')\n",
    "plt.ylabel('Run_Time')\n",
    "plt.title('Running time')\n",
    "plt.show()"
   ]
  },
  {
   "cell_type": "markdown",
   "metadata": {},
   "source": [
    "# 4. Models summary"
   ]
  },
  {
   "cell_type": "markdown",
   "metadata": {},
   "source": [
    "At this section, we will plot all models information in a simple plot to see the global results at a glance."
   ]
  },
  {
   "cell_type": "code",
   "execution_count": 194,
   "metadata": {},
   "outputs": [
    {
     "data": {
      "text/html": [
       "<div>\n",
       "<style scoped>\n",
       "    .dataframe tbody tr th:only-of-type {\n",
       "        vertical-align: middle;\n",
       "    }\n",
       "\n",
       "    .dataframe tbody tr th {\n",
       "        vertical-align: top;\n",
       "    }\n",
       "\n",
       "    .dataframe thead th {\n",
       "        text-align: right;\n",
       "    }\n",
       "</style>\n",
       "<table border=\"1\" class=\"dataframe\">\n",
       "  <thead>\n",
       "    <tr style=\"text-align: right;\">\n",
       "      <th></th>\n",
       "      <th>Run_Time</th>\n",
       "      <th>Train_Gini</th>\n",
       "      <th>Test_Gini</th>\n",
       "      <th>delta%</th>\n",
       "      <th>Type</th>\n",
       "      <th>Estimators_number</th>\n",
       "      <th>Time</th>\n",
       "    </tr>\n",
       "  </thead>\n",
       "  <tbody>\n",
       "    <tr>\n",
       "      <th>0</th>\n",
       "      <td>0.827149</td>\n",
       "      <td>0.659598</td>\n",
       "      <td>0.633105</td>\n",
       "      <td>-4.016445</td>\n",
       "      <td>Bagging</td>\n",
       "      <td>1</td>\n",
       "      <td>1</td>\n",
       "    </tr>\n",
       "    <tr>\n",
       "      <th>1</th>\n",
       "      <td>2.288813</td>\n",
       "      <td>0.686585</td>\n",
       "      <td>0.656260</td>\n",
       "      <td>-4.416736</td>\n",
       "      <td>Bagging</td>\n",
       "      <td>3</td>\n",
       "      <td>2</td>\n",
       "    </tr>\n",
       "    <tr>\n",
       "      <th>2</th>\n",
       "      <td>4.037061</td>\n",
       "      <td>0.689631</td>\n",
       "      <td>0.658591</td>\n",
       "      <td>-4.500942</td>\n",
       "      <td>Bagging</td>\n",
       "      <td>5</td>\n",
       "      <td>2</td>\n",
       "    </tr>\n",
       "    <tr>\n",
       "      <th>3</th>\n",
       "      <td>7.211621</td>\n",
       "      <td>0.692725</td>\n",
       "      <td>0.669033</td>\n",
       "      <td>-3.420013</td>\n",
       "      <td>Bagging</td>\n",
       "      <td>10</td>\n",
       "      <td>2</td>\n",
       "    </tr>\n",
       "    <tr>\n",
       "      <th>4</th>\n",
       "      <td>10.945362</td>\n",
       "      <td>0.691592</td>\n",
       "      <td>0.667169</td>\n",
       "      <td>-3.531370</td>\n",
       "      <td>Bagging</td>\n",
       "      <td>15</td>\n",
       "      <td>3</td>\n",
       "    </tr>\n",
       "    <tr>\n",
       "      <th>...</th>\n",
       "      <td>...</td>\n",
       "      <td>...</td>\n",
       "      <td>...</td>\n",
       "      <td>...</td>\n",
       "      <td>...</td>\n",
       "      <td>...</td>\n",
       "      <td>...</td>\n",
       "    </tr>\n",
       "    <tr>\n",
       "      <th>91</th>\n",
       "      <td>5.259317</td>\n",
       "      <td>0.792454</td>\n",
       "      <td>0.749199</td>\n",
       "      <td>-5.458369</td>\n",
       "      <td>CatBoost</td>\n",
       "      <td>50</td>\n",
       "      <td>2</td>\n",
       "    </tr>\n",
       "    <tr>\n",
       "      <th>92</th>\n",
       "      <td>9.141006</td>\n",
       "      <td>0.821290</td>\n",
       "      <td>0.754821</td>\n",
       "      <td>-8.093263</td>\n",
       "      <td>CatBoost</td>\n",
       "      <td>100</td>\n",
       "      <td>2</td>\n",
       "    </tr>\n",
       "    <tr>\n",
       "      <th>93</th>\n",
       "      <td>24.907089</td>\n",
       "      <td>0.849800</td>\n",
       "      <td>0.778066</td>\n",
       "      <td>-8.441278</td>\n",
       "      <td>CatBoost</td>\n",
       "      <td>200</td>\n",
       "      <td>3</td>\n",
       "    </tr>\n",
       "    <tr>\n",
       "      <th>94</th>\n",
       "      <td>62.198822</td>\n",
       "      <td>0.856141</td>\n",
       "      <td>0.785529</td>\n",
       "      <td>-8.247777</td>\n",
       "      <td>CatBoost</td>\n",
       "      <td>500</td>\n",
       "      <td>5</td>\n",
       "    </tr>\n",
       "    <tr>\n",
       "      <th>95</th>\n",
       "      <td>120.751863</td>\n",
       "      <td>0.860153</td>\n",
       "      <td>0.788988</td>\n",
       "      <td>-8.273609</td>\n",
       "      <td>CatBoost</td>\n",
       "      <td>1000</td>\n",
       "      <td>6</td>\n",
       "    </tr>\n",
       "  </tbody>\n",
       "</table>\n",
       "<p>96 rows × 7 columns</p>\n",
       "</div>"
      ],
      "text/plain": [
       "      Run_Time  Train_Gini  Test_Gini    delta%      Type  Estimators_number  \\\n",
       "0     0.827149    0.659598   0.633105 -4.016445   Bagging                  1   \n",
       "1     2.288813    0.686585   0.656260 -4.416736   Bagging                  3   \n",
       "2     4.037061    0.689631   0.658591 -4.500942   Bagging                  5   \n",
       "3     7.211621    0.692725   0.669033 -3.420013   Bagging                 10   \n",
       "4    10.945362    0.691592   0.667169 -3.531370   Bagging                 15   \n",
       "..         ...         ...        ...       ...       ...                ...   \n",
       "91    5.259317    0.792454   0.749199 -5.458369  CatBoost                 50   \n",
       "92    9.141006    0.821290   0.754821 -8.093263  CatBoost                100   \n",
       "93   24.907089    0.849800   0.778066 -8.441278  CatBoost                200   \n",
       "94   62.198822    0.856141   0.785529 -8.247777  CatBoost                500   \n",
       "95  120.751863    0.860153   0.788988 -8.273609  CatBoost               1000   \n",
       "\n",
       "    Time  \n",
       "0      1  \n",
       "1      2  \n",
       "2      2  \n",
       "3      2  \n",
       "4      3  \n",
       "..   ...  \n",
       "91     2  \n",
       "92     2  \n",
       "93     3  \n",
       "94     5  \n",
       "95     6  \n",
       "\n",
       "[96 rows x 7 columns]"
      ]
     },
     "execution_count": 194,
     "metadata": {},
     "output_type": "execute_result"
    }
   ],
   "source": [
    "#In each dataframe, we generate two new columns:\n",
    "index = [1, 3, 5, 10, 15, 20, 30, 50, 100, 200, 500, 1000]\n",
    "\n",
    "BAG['Type'] = ['Bagging']*12\n",
    "BAG['Estimators_number'] = index\n",
    "BAG = BAG.reset_index()\n",
    "\n",
    "RF['Type'] = ['Random Forest']*12\n",
    "RF['Estimators_number'] = index\n",
    "RF = RF.reset_index()\n",
    "\n",
    "ET['Type'] = ['Extra-Trees']*12\n",
    "ET['Estimators_number'] = index\n",
    "ET = ET.reset_index()\n",
    "\n",
    "ADAB['Type'] = ['AdaBoost']*12\n",
    "ADAB['Estimators_number'] = index\n",
    "ADAB = ADAB.reset_index()\n",
    "\n",
    "GB['Type'] = ['Gradient Boosting']*12\n",
    "GB['Estimators_number'] = index\n",
    "GB = GB.reset_index()\n",
    "\n",
    "XGB['Type'] = ['XGBoost']*12\n",
    "XGB['Estimators_number'] = index\n",
    "XGB = XGB.reset_index()\n",
    "\n",
    "LGBM['Type'] = ['LightGBM']*12\n",
    "LGBM['Estimators_number'] = index\n",
    "LGBM = LGBM.reset_index()\n",
    "\n",
    "CATB['Type'] = ['CatBoost']*12\n",
    "CATB['Estimators_number'] = index\n",
    "CATB = CATB.reset_index()\n",
    "\n",
    "#We concatenate the dataframes to get the main dataframe which summarizes all the information:\n",
    "models = pd.concat([BAG, RF, ET, ADAB, GB, XGB, LGBM, CATB], axis = 0)\n",
    "models = models.reset_index().drop(['level_0', 'index'], axis = 1)\n",
    "\n",
    "#We add a Time column that classifies the Run_Time values:\n",
    "models['Time'] = np.where(models.Run_Time > 300, 7, 1)\n",
    "models['Time'] = np.where((models.Run_Time > 120) & (models.Time == 1), 6, models.Time)\n",
    "models['Time'] = np.where((models.Run_Time > 60) & (models.Time == 1), 5, models.Time)\n",
    "models['Time'] = np.where((models.Run_Time > 30) & (models.Time == 1), 4, models.Time)\n",
    "models['Time'] = np.where((models.Run_Time > 10) & (models.Time == 1), 3, models.Time)\n",
    "models['Time'] = np.where((models.Run_Time > 1) & (models.Time == 1), 2, models.Time)\n",
    "\n",
    "#Printing the final dataset:\n",
    "models"
   ]
  },
  {
   "cell_type": "code",
   "execution_count": 195,
   "metadata": {},
   "outputs": [
    {
     "data": {
      "application/vnd.plotly.v1+json": {
       "config": {
        "plotlyServerURL": "https://plot.ly"
       },
       "data": [
        {
         "hovertemplate": "Type=Bagging<br>Estimators_number=%{x}<br>Test_Gini=%{y}<br>Time=%{marker.size}<extra></extra>",
         "legendgroup": "Bagging",
         "marker": {
          "color": "#636efa",
          "size": [
           1,
           2,
           2,
           2,
           3,
           3,
           3,
           4,
           5,
           6,
           7,
           7
          ],
          "sizemode": "area",
          "sizeref": 0.0175,
          "symbol": "circle"
         },
         "mode": "markers",
         "name": "Bagging",
         "orientation": "v",
         "showlegend": true,
         "type": "scatter",
         "x": [
          1,
          3,
          5,
          10,
          15,
          20,
          30,
          50,
          100,
          200,
          500,
          1000
         ],
         "xaxis": "x",
         "y": [
          0.6331053109548122,
          0.6562600321270347,
          0.6585908926781117,
          0.6690332829636276,
          0.6671688632346164,
          0.6679566101945036,
          0.6696577434234081,
          0.6674471204125059,
          0.6732016948118926,
          0.6706307666533546,
          0.670539134811166,
          0.6705823875075421
         ],
         "yaxis": "y"
        },
        {
         "hovertemplate": "<b>LOWESS trendline</b><br><br>Type=Bagging<br>Estimators_number=%{x}<br>Test_Gini=%{y} <b>(trend)</b><extra></extra>",
         "legendgroup": "Bagging",
         "marker": {
          "color": "#636efa",
          "symbol": "circle"
         },
         "mode": "lines",
         "name": "Bagging",
         "showlegend": false,
         "type": "scatter",
         "x": [
          1,
          3,
          5,
          10,
          15,
          20,
          30,
          50,
          100,
          200,
          500,
          1000
         ],
         "xaxis": "x",
         "y": [
          0.6649631717469313,
          0.6652782705308888,
          0.6655933693148426,
          0.666381116274732,
          0.6671688632346167,
          0.6679576836250537,
          0.6676364340684208,
          0.6674679617711969,
          0.6730442324870315,
          0.670966114553915,
          0.6705006390109873,
          0.6705620783851884
         ],
         "yaxis": "y"
        },
        {
         "hovertemplate": "Type=Random Forest<br>Estimators_number=%{x}<br>Test_Gini=%{y}<br>Time=%{marker.size}<extra></extra>",
         "legendgroup": "Random Forest",
         "marker": {
          "color": "#EF553B",
          "size": [
           1,
           1,
           1,
           2,
           2,
           2,
           2,
           2,
           2,
           3,
           4,
           5
          ],
          "sizemode": "area",
          "sizeref": 0.0175,
          "symbol": "circle"
         },
         "mode": "markers",
         "name": "Random Forest",
         "orientation": "v",
         "showlegend": true,
         "type": "scatter",
         "x": [
          1,
          3,
          5,
          10,
          15,
          20,
          30,
          50,
          100,
          200,
          500,
          1000
         ],
         "xaxis": "x",
         "y": [
          0.506349545385528,
          0.6275888934454272,
          0.6321393744492751,
          0.6587066480165222,
          0.6593985452391955,
          0.6574291682032936,
          0.6651967495226991,
          0.6641547697661174,
          0.6718873497151199,
          0.6730472488215291,
          0.6722177138651049,
          0.6730664248260014
         ],
         "yaxis": "y"
        },
        {
         "hovertemplate": "<b>LOWESS trendline</b><br><br>Type=Random Forest<br>Estimators_number=%{x}<br>Test_Gini=%{y} <b>(trend)</b><extra></extra>",
         "legendgroup": "Random Forest",
         "marker": {
          "color": "#EF553B",
          "symbol": "circle"
         },
         "mode": "lines",
         "name": "Random Forest",
         "showlegend": false,
         "type": "scatter",
         "x": [
          1,
          3,
          5,
          10,
          15,
          20,
          30,
          50,
          100,
          200,
          500,
          1000
         ],
         "xaxis": "x",
         "y": [
          0.6591028789256558,
          0.6591105516973501,
          0.6591049023660598,
          0.659000731327978,
          0.6587079967356017,
          0.6605117432538365,
          0.6622744698811216,
          0.6645801965081306,
          0.6718105605484677,
          0.6733784092215148,
          0.6722756870318813,
          0.6730168199754306
         ],
         "yaxis": "y"
        },
        {
         "hovertemplate": "Type=Extra-Trees<br>Estimators_number=%{x}<br>Test_Gini=%{y}<br>Time=%{marker.size}<extra></extra>",
         "legendgroup": "Extra-Trees",
         "marker": {
          "color": "#00cc96",
          "size": [
           1,
           1,
           1,
           1,
           1,
           2,
           2,
           2,
           2,
           3,
           3,
           4
          ],
          "sizemode": "area",
          "sizeref": 0.0175,
          "symbol": "circle"
         },
         "mode": "markers",
         "name": "Extra-Trees",
         "orientation": "v",
         "showlegend": true,
         "type": "scatter",
         "x": [
          1,
          3,
          5,
          10,
          15,
          20,
          30,
          50,
          100,
          200,
          500,
          1000
         ],
         "xaxis": "x",
         "y": [
          0.35500008190755694,
          0.5293597293168621,
          0.6034255337103283,
          0.6117263621329938,
          0.6405699554546787,
          0.5935295728266241,
          0.6442886163500974,
          0.6309928035607624,
          0.6263789825484591,
          0.6341092911114332,
          0.6316917627290883,
          0.6316472876140495
         ],
         "yaxis": "y"
        },
        {
         "hovertemplate": "<b>LOWESS trendline</b><br><br>Type=Extra-Trees<br>Estimators_number=%{x}<br>Test_Gini=%{y} <b>(trend)</b><extra></extra>",
         "legendgroup": "Extra-Trees",
         "marker": {
          "color": "#00cc96",
          "symbol": "circle"
         },
         "mode": "lines",
         "name": "Extra-Trees",
         "showlegend": false,
         "type": "scatter",
         "x": [
          1,
          3,
          5,
          10,
          15,
          20,
          30,
          50,
          100,
          200,
          500,
          1000
         ],
         "xaxis": "x",
         "y": [
          0.5591659253574812,
          0.568841111828372,
          0.5778659531483701,
          0.598050918595875,
          0.6131308691618644,
          0.6223970744464861,
          0.6301145852993865,
          0.6346928278037923,
          0.626676450578146,
          0.6335795249037712,
          0.631873055096126,
          0.6315914326601572
         ],
         "yaxis": "y"
        },
        {
         "hovertemplate": "Type=AdaBoost<br>Estimators_number=%{x}<br>Test_Gini=%{y}<br>Time=%{marker.size}<extra></extra>",
         "legendgroup": "AdaBoost",
         "marker": {
          "color": "#ab63fa",
          "size": [
           1,
           2,
           2,
           2,
           2,
           2,
           2,
           3,
           4,
           4,
           6,
           6
          ],
          "sizemode": "area",
          "sizeref": 0.0175,
          "symbol": "circle"
         },
         "mode": "markers",
         "name": "AdaBoost",
         "orientation": "v",
         "showlegend": true,
         "type": "scatter",
         "x": [
          1,
          3,
          5,
          10,
          15,
          20,
          30,
          50,
          100,
          200,
          500,
          1000
         ],
         "xaxis": "x",
         "y": [
          0.32440312999747944,
          0.3940868966217883,
          0.5188039349216242,
          0.5404614355132167,
          0.5738793993133808,
          0.6075692191126258,
          0.6258058856980735,
          0.6608970212768304,
          0.6903808040623947,
          0.71096963542327,
          0.7269228404659671,
          0.734451174630077
         ],
         "yaxis": "y"
        },
        {
         "hovertemplate": "<b>LOWESS trendline</b><br><br>Type=AdaBoost<br>Estimators_number=%{x}<br>Test_Gini=%{y} <b>(trend)</b><extra></extra>",
         "legendgroup": "AdaBoost",
         "marker": {
          "color": "#ab63fa",
          "symbol": "circle"
         },
         "mode": "lines",
         "name": "AdaBoost",
         "showlegend": false,
         "type": "scatter",
         "x": [
          1,
          3,
          5,
          10,
          15,
          20,
          30,
          50,
          100,
          200,
          500,
          1000
         ],
         "xaxis": "x",
         "y": [
          0.48170552336769634,
          0.4947944407393027,
          0.5079081239716131,
          0.5407738325359269,
          0.5738199286237089,
          0.5909988818599957,
          0.6125494224220931,
          0.6621195146422905,
          0.6917876609825253,
          0.7118925695834694,
          0.7273493718172944,
          0.7351062831400483
         ],
         "yaxis": "y"
        },
        {
         "hovertemplate": "Type=Gradient Boosting<br>Estimators_number=%{x}<br>Test_Gini=%{y}<br>Time=%{marker.size}<extra></extra>",
         "legendgroup": "Gradient Boosting",
         "marker": {
          "color": "#FFA15A",
          "size": [
           2,
           2,
           2,
           2,
           3,
           3,
           3,
           4,
           5,
           6,
           7,
           7
          ],
          "sizemode": "area",
          "sizeref": 0.0175,
          "symbol": "circle"
         },
         "mode": "markers",
         "name": "Gradient Boosting",
         "orientation": "v",
         "showlegend": true,
         "type": "scatter",
         "x": [
          1,
          3,
          5,
          10,
          15,
          20,
          30,
          50,
          100,
          200,
          500,
          1000
         ],
         "xaxis": "x",
         "y": [
          0.6264155862784606,
          0.6591788044717946,
          0.6713120145170477,
          0.6892991342440078,
          0.7040527308461244,
          0.7143853209544173,
          0.7275781780097619,
          0.744640174596626,
          0.758891797639603,
          0.7693284695387175,
          0.7750109955732749,
          0.7743773862458903
         ],
         "yaxis": "y"
        },
        {
         "hovertemplate": "<b>LOWESS trendline</b><br><br>Type=Gradient Boosting<br>Estimators_number=%{x}<br>Test_Gini=%{y} <b>(trend)</b><extra></extra>",
         "legendgroup": "Gradient Boosting",
         "marker": {
          "color": "#FFA15A",
          "symbol": "circle"
         },
         "mode": "lines",
         "name": "Gradient Boosting",
         "showlegend": false,
         "type": "scatter",
         "x": [
          1,
          3,
          5,
          10,
          15,
          20,
          30,
          50,
          100,
          200,
          500,
          1000
         ],
         "xaxis": "x",
         "y": [
          0.6563416800596639,
          0.6630872644617313,
          0.6697587177575347,
          0.6861657994242538,
          0.7021170547697293,
          0.7114562320294264,
          0.7252297960463748,
          0.7458109872076795,
          0.7600372874394165,
          0.7699793958832529,
          0.7752582506687985,
          0.774730265770106
         ],
         "yaxis": "y"
        },
        {
         "hovertemplate": "Type=XGBoost<br>Estimators_number=%{x}<br>Test_Gini=%{y}<br>Time=%{marker.size}<extra></extra>",
         "legendgroup": "XGBoost",
         "marker": {
          "color": "#19d3f3",
          "size": [
           1,
           1,
           1,
           1,
           2,
           2,
           2,
           2,
           2,
           3,
           4,
           5
          ],
          "sizemode": "area",
          "sizeref": 0.0175,
          "symbol": "circle"
         },
         "mode": "markers",
         "name": "XGBoost",
         "orientation": "v",
         "showlegend": true,
         "type": "scatter",
         "x": [
          1,
          3,
          5,
          10,
          15,
          20,
          30,
          50,
          100,
          200,
          500,
          1000
         ],
         "xaxis": "x",
         "y": [
          0.626419820692657,
          0.6576769860552039,
          0.6714933454584051,
          0.6818546073413674,
          0.7014054923766089,
          0.7099384454386231,
          0.7252020797085796,
          0.7429278220973372,
          0.7596742336859765,
          0.7720849162484908,
          0.7796121986920395,
          0.7785750590525953
         ],
         "yaxis": "y"
        },
        {
         "hovertemplate": "<b>LOWESS trendline</b><br><br>Type=XGBoost<br>Estimators_number=%{x}<br>Test_Gini=%{y} <b>(trend)</b><extra></extra>",
         "legendgroup": "XGBoost",
         "marker": {
          "color": "#19d3f3",
          "symbol": "circle"
         },
         "mode": "lines",
         "name": "XGBoost",
         "showlegend": false,
         "type": "scatter",
         "x": [
          1,
          3,
          5,
          10,
          15,
          20,
          30,
          50,
          100,
          200,
          500,
          1000
         ],
         "xaxis": "x",
         "y": [
          0.6538278253609373,
          0.6601953411536251,
          0.6665204365948136,
          0.6821765947821318,
          0.697444579797398,
          0.7075239053425009,
          0.7222665139902344,
          0.744189960722452,
          0.7607769310053397,
          0.7727939248744313,
          0.7798958319623158,
          0.7790368848511118
         ],
         "yaxis": "y"
        },
        {
         "hovertemplate": "Type=LightGBM<br>Estimators_number=%{x}<br>Test_Gini=%{y}<br>Time=%{marker.size}<extra></extra>",
         "legendgroup": "LightGBM",
         "marker": {
          "color": "#FF6692",
          "size": [
           1,
           1,
           1,
           1,
           1,
           1,
           1,
           1,
           1,
           2,
           2,
           2
          ],
          "sizemode": "area",
          "sizeref": 0.0175,
          "symbol": "circle"
         },
         "mode": "markers",
         "name": "LightGBM",
         "orientation": "v",
         "showlegend": true,
         "type": "scatter",
         "x": [
          1,
          3,
          5,
          10,
          15,
          20,
          30,
          50,
          100,
          200,
          500,
          1000
         ],
         "xaxis": "x",
         "y": [
          0.6328145928155098,
          0.6636783320923303,
          0.6799476177083863,
          0.6970722439793471,
          0.7079998463717088,
          0.7141207857013359,
          0.7287516393556588,
          0.7446318048832596,
          0.7586729571670283,
          0.7722469252660309,
          0.7773620838493853,
          0.775397676330795
         ],
         "yaxis": "y"
        },
        {
         "hovertemplate": "<b>LOWESS trendline</b><br><br>Type=LightGBM<br>Estimators_number=%{x}<br>Test_Gini=%{y} <b>(trend)</b><extra></extra>",
         "legendgroup": "LightGBM",
         "marker": {
          "color": "#FF6692",
          "symbol": "circle"
         },
         "mode": "lines",
         "name": "LightGBM",
         "showlegend": false,
         "type": "scatter",
         "x": [
          1,
          3,
          5,
          10,
          15,
          20,
          30,
          50,
          100,
          200,
          500,
          1000
         ],
         "xaxis": "x",
         "y": [
          0.6578741757927006,
          0.6640374622964271,
          0.6701756371406111,
          0.6854101618826614,
          0.7012076113865077,
          0.7136172678318483,
          0.7260611878390926,
          0.7451759873663799,
          0.759607302900341,
          0.7727425905223063,
          0.777676378627442,
          0.7757804902019866
         ],
         "yaxis": "y"
        },
        {
         "hovertemplate": "Type=CatBoost<br>Estimators_number=%{x}<br>Test_Gini=%{y}<br>Time=%{marker.size}<extra></extra>",
         "legendgroup": "CatBoost",
         "marker": {
          "color": "#B6E880",
          "size": [
           2,
           2,
           2,
           2,
           2,
           2,
           2,
           2,
           2,
           3,
           5,
           6
          ],
          "sizemode": "area",
          "sizeref": 0.0175,
          "symbol": "circle"
         },
         "mode": "markers",
         "name": "CatBoost",
         "orientation": "v",
         "showlegend": true,
         "type": "scatter",
         "x": [
          1,
          3,
          5,
          10,
          15,
          20,
          30,
          50,
          100,
          200,
          500,
          1000
         ],
         "xaxis": "x",
         "y": [
          0.6197898403518476,
          0.674643433003129,
          0.7058789967962444,
          0.7210877378605778,
          0.7293103672803678,
          0.7334385659597427,
          0.7417578490497414,
          0.7491989674967412,
          0.7548211049480837,
          0.7780656078153299,
          0.7855288041345283,
          0.7889877643876129
         ],
         "yaxis": "y"
        },
        {
         "hovertemplate": "<b>LOWESS trendline</b><br><br>Type=CatBoost<br>Estimators_number=%{x}<br>Test_Gini=%{y} <b>(trend)</b><extra></extra>",
         "legendgroup": "CatBoost",
         "marker": {
          "color": "#B6E880",
          "symbol": "circle"
         },
         "mode": "lines",
         "name": "CatBoost",
         "showlegend": false,
         "type": "scatter",
         "x": [
          1,
          3,
          5,
          10,
          15,
          20,
          30,
          50,
          100,
          200,
          500,
          1000
         ],
         "xaxis": "x",
         "y": [
          0.7101508985357189,
          0.7127956534477493,
          0.7154206397809744,
          0.7218527022391601,
          0.7280452397409161,
          0.7330928194941247,
          0.739511401481042,
          0.7497613757974396,
          0.7554224485995356,
          0.7778174085807721,
          0.7860282683185008,
          0.7893892684942706
         ],
         "yaxis": "y"
        }
       ],
       "layout": {
        "legend": {
         "itemsizing": "constant",
         "title": {
          "text": "Type"
         },
         "tracegroupgap": 0
        },
        "margin": {
         "t": 60
        },
        "template": {
         "data": {
          "bar": [
           {
            "error_x": {
             "color": "#2a3f5f"
            },
            "error_y": {
             "color": "#2a3f5f"
            },
            "marker": {
             "line": {
              "color": "#E5ECF6",
              "width": 0.5
             },
             "pattern": {
              "fillmode": "overlay",
              "size": 10,
              "solidity": 0.2
             }
            },
            "type": "bar"
           }
          ],
          "barpolar": [
           {
            "marker": {
             "line": {
              "color": "#E5ECF6",
              "width": 0.5
             },
             "pattern": {
              "fillmode": "overlay",
              "size": 10,
              "solidity": 0.2
             }
            },
            "type": "barpolar"
           }
          ],
          "carpet": [
           {
            "aaxis": {
             "endlinecolor": "#2a3f5f",
             "gridcolor": "white",
             "linecolor": "white",
             "minorgridcolor": "white",
             "startlinecolor": "#2a3f5f"
            },
            "baxis": {
             "endlinecolor": "#2a3f5f",
             "gridcolor": "white",
             "linecolor": "white",
             "minorgridcolor": "white",
             "startlinecolor": "#2a3f5f"
            },
            "type": "carpet"
           }
          ],
          "choropleth": [
           {
            "colorbar": {
             "outlinewidth": 0,
             "ticks": ""
            },
            "type": "choropleth"
           }
          ],
          "contour": [
           {
            "colorbar": {
             "outlinewidth": 0,
             "ticks": ""
            },
            "colorscale": [
             [
              0,
              "#0d0887"
             ],
             [
              0.1111111111111111,
              "#46039f"
             ],
             [
              0.2222222222222222,
              "#7201a8"
             ],
             [
              0.3333333333333333,
              "#9c179e"
             ],
             [
              0.4444444444444444,
              "#bd3786"
             ],
             [
              0.5555555555555556,
              "#d8576b"
             ],
             [
              0.6666666666666666,
              "#ed7953"
             ],
             [
              0.7777777777777778,
              "#fb9f3a"
             ],
             [
              0.8888888888888888,
              "#fdca26"
             ],
             [
              1,
              "#f0f921"
             ]
            ],
            "type": "contour"
           }
          ],
          "contourcarpet": [
           {
            "colorbar": {
             "outlinewidth": 0,
             "ticks": ""
            },
            "type": "contourcarpet"
           }
          ],
          "heatmap": [
           {
            "colorbar": {
             "outlinewidth": 0,
             "ticks": ""
            },
            "colorscale": [
             [
              0,
              "#0d0887"
             ],
             [
              0.1111111111111111,
              "#46039f"
             ],
             [
              0.2222222222222222,
              "#7201a8"
             ],
             [
              0.3333333333333333,
              "#9c179e"
             ],
             [
              0.4444444444444444,
              "#bd3786"
             ],
             [
              0.5555555555555556,
              "#d8576b"
             ],
             [
              0.6666666666666666,
              "#ed7953"
             ],
             [
              0.7777777777777778,
              "#fb9f3a"
             ],
             [
              0.8888888888888888,
              "#fdca26"
             ],
             [
              1,
              "#f0f921"
             ]
            ],
            "type": "heatmap"
           }
          ],
          "heatmapgl": [
           {
            "colorbar": {
             "outlinewidth": 0,
             "ticks": ""
            },
            "colorscale": [
             [
              0,
              "#0d0887"
             ],
             [
              0.1111111111111111,
              "#46039f"
             ],
             [
              0.2222222222222222,
              "#7201a8"
             ],
             [
              0.3333333333333333,
              "#9c179e"
             ],
             [
              0.4444444444444444,
              "#bd3786"
             ],
             [
              0.5555555555555556,
              "#d8576b"
             ],
             [
              0.6666666666666666,
              "#ed7953"
             ],
             [
              0.7777777777777778,
              "#fb9f3a"
             ],
             [
              0.8888888888888888,
              "#fdca26"
             ],
             [
              1,
              "#f0f921"
             ]
            ],
            "type": "heatmapgl"
           }
          ],
          "histogram": [
           {
            "marker": {
             "pattern": {
              "fillmode": "overlay",
              "size": 10,
              "solidity": 0.2
             }
            },
            "type": "histogram"
           }
          ],
          "histogram2d": [
           {
            "colorbar": {
             "outlinewidth": 0,
             "ticks": ""
            },
            "colorscale": [
             [
              0,
              "#0d0887"
             ],
             [
              0.1111111111111111,
              "#46039f"
             ],
             [
              0.2222222222222222,
              "#7201a8"
             ],
             [
              0.3333333333333333,
              "#9c179e"
             ],
             [
              0.4444444444444444,
              "#bd3786"
             ],
             [
              0.5555555555555556,
              "#d8576b"
             ],
             [
              0.6666666666666666,
              "#ed7953"
             ],
             [
              0.7777777777777778,
              "#fb9f3a"
             ],
             [
              0.8888888888888888,
              "#fdca26"
             ],
             [
              1,
              "#f0f921"
             ]
            ],
            "type": "histogram2d"
           }
          ],
          "histogram2dcontour": [
           {
            "colorbar": {
             "outlinewidth": 0,
             "ticks": ""
            },
            "colorscale": [
             [
              0,
              "#0d0887"
             ],
             [
              0.1111111111111111,
              "#46039f"
             ],
             [
              0.2222222222222222,
              "#7201a8"
             ],
             [
              0.3333333333333333,
              "#9c179e"
             ],
             [
              0.4444444444444444,
              "#bd3786"
             ],
             [
              0.5555555555555556,
              "#d8576b"
             ],
             [
              0.6666666666666666,
              "#ed7953"
             ],
             [
              0.7777777777777778,
              "#fb9f3a"
             ],
             [
              0.8888888888888888,
              "#fdca26"
             ],
             [
              1,
              "#f0f921"
             ]
            ],
            "type": "histogram2dcontour"
           }
          ],
          "mesh3d": [
           {
            "colorbar": {
             "outlinewidth": 0,
             "ticks": ""
            },
            "type": "mesh3d"
           }
          ],
          "parcoords": [
           {
            "line": {
             "colorbar": {
              "outlinewidth": 0,
              "ticks": ""
             }
            },
            "type": "parcoords"
           }
          ],
          "pie": [
           {
            "automargin": true,
            "type": "pie"
           }
          ],
          "scatter": [
           {
            "fillpattern": {
             "fillmode": "overlay",
             "size": 10,
             "solidity": 0.2
            },
            "type": "scatter"
           }
          ],
          "scatter3d": [
           {
            "line": {
             "colorbar": {
              "outlinewidth": 0,
              "ticks": ""
             }
            },
            "marker": {
             "colorbar": {
              "outlinewidth": 0,
              "ticks": ""
             }
            },
            "type": "scatter3d"
           }
          ],
          "scattercarpet": [
           {
            "marker": {
             "colorbar": {
              "outlinewidth": 0,
              "ticks": ""
             }
            },
            "type": "scattercarpet"
           }
          ],
          "scattergeo": [
           {
            "marker": {
             "colorbar": {
              "outlinewidth": 0,
              "ticks": ""
             }
            },
            "type": "scattergeo"
           }
          ],
          "scattergl": [
           {
            "marker": {
             "colorbar": {
              "outlinewidth": 0,
              "ticks": ""
             }
            },
            "type": "scattergl"
           }
          ],
          "scattermapbox": [
           {
            "marker": {
             "colorbar": {
              "outlinewidth": 0,
              "ticks": ""
             }
            },
            "type": "scattermapbox"
           }
          ],
          "scatterpolar": [
           {
            "marker": {
             "colorbar": {
              "outlinewidth": 0,
              "ticks": ""
             }
            },
            "type": "scatterpolar"
           }
          ],
          "scatterpolargl": [
           {
            "marker": {
             "colorbar": {
              "outlinewidth": 0,
              "ticks": ""
             }
            },
            "type": "scatterpolargl"
           }
          ],
          "scatterternary": [
           {
            "marker": {
             "colorbar": {
              "outlinewidth": 0,
              "ticks": ""
             }
            },
            "type": "scatterternary"
           }
          ],
          "surface": [
           {
            "colorbar": {
             "outlinewidth": 0,
             "ticks": ""
            },
            "colorscale": [
             [
              0,
              "#0d0887"
             ],
             [
              0.1111111111111111,
              "#46039f"
             ],
             [
              0.2222222222222222,
              "#7201a8"
             ],
             [
              0.3333333333333333,
              "#9c179e"
             ],
             [
              0.4444444444444444,
              "#bd3786"
             ],
             [
              0.5555555555555556,
              "#d8576b"
             ],
             [
              0.6666666666666666,
              "#ed7953"
             ],
             [
              0.7777777777777778,
              "#fb9f3a"
             ],
             [
              0.8888888888888888,
              "#fdca26"
             ],
             [
              1,
              "#f0f921"
             ]
            ],
            "type": "surface"
           }
          ],
          "table": [
           {
            "cells": {
             "fill": {
              "color": "#EBF0F8"
             },
             "line": {
              "color": "white"
             }
            },
            "header": {
             "fill": {
              "color": "#C8D4E3"
             },
             "line": {
              "color": "white"
             }
            },
            "type": "table"
           }
          ]
         },
         "layout": {
          "annotationdefaults": {
           "arrowcolor": "#2a3f5f",
           "arrowhead": 0,
           "arrowwidth": 1
          },
          "autotypenumbers": "strict",
          "coloraxis": {
           "colorbar": {
            "outlinewidth": 0,
            "ticks": ""
           }
          },
          "colorscale": {
           "diverging": [
            [
             0,
             "#8e0152"
            ],
            [
             0.1,
             "#c51b7d"
            ],
            [
             0.2,
             "#de77ae"
            ],
            [
             0.3,
             "#f1b6da"
            ],
            [
             0.4,
             "#fde0ef"
            ],
            [
             0.5,
             "#f7f7f7"
            ],
            [
             0.6,
             "#e6f5d0"
            ],
            [
             0.7,
             "#b8e186"
            ],
            [
             0.8,
             "#7fbc41"
            ],
            [
             0.9,
             "#4d9221"
            ],
            [
             1,
             "#276419"
            ]
           ],
           "sequential": [
            [
             0,
             "#0d0887"
            ],
            [
             0.1111111111111111,
             "#46039f"
            ],
            [
             0.2222222222222222,
             "#7201a8"
            ],
            [
             0.3333333333333333,
             "#9c179e"
            ],
            [
             0.4444444444444444,
             "#bd3786"
            ],
            [
             0.5555555555555556,
             "#d8576b"
            ],
            [
             0.6666666666666666,
             "#ed7953"
            ],
            [
             0.7777777777777778,
             "#fb9f3a"
            ],
            [
             0.8888888888888888,
             "#fdca26"
            ],
            [
             1,
             "#f0f921"
            ]
           ],
           "sequentialminus": [
            [
             0,
             "#0d0887"
            ],
            [
             0.1111111111111111,
             "#46039f"
            ],
            [
             0.2222222222222222,
             "#7201a8"
            ],
            [
             0.3333333333333333,
             "#9c179e"
            ],
            [
             0.4444444444444444,
             "#bd3786"
            ],
            [
             0.5555555555555556,
             "#d8576b"
            ],
            [
             0.6666666666666666,
             "#ed7953"
            ],
            [
             0.7777777777777778,
             "#fb9f3a"
            ],
            [
             0.8888888888888888,
             "#fdca26"
            ],
            [
             1,
             "#f0f921"
            ]
           ]
          },
          "colorway": [
           "#636efa",
           "#EF553B",
           "#00cc96",
           "#ab63fa",
           "#FFA15A",
           "#19d3f3",
           "#FF6692",
           "#B6E880",
           "#FF97FF",
           "#FECB52"
          ],
          "font": {
           "color": "#2a3f5f"
          },
          "geo": {
           "bgcolor": "white",
           "lakecolor": "white",
           "landcolor": "#E5ECF6",
           "showlakes": true,
           "showland": true,
           "subunitcolor": "white"
          },
          "hoverlabel": {
           "align": "left"
          },
          "hovermode": "closest",
          "mapbox": {
           "style": "light"
          },
          "paper_bgcolor": "white",
          "plot_bgcolor": "#E5ECF6",
          "polar": {
           "angularaxis": {
            "gridcolor": "white",
            "linecolor": "white",
            "ticks": ""
           },
           "bgcolor": "#E5ECF6",
           "radialaxis": {
            "gridcolor": "white",
            "linecolor": "white",
            "ticks": ""
           }
          },
          "scene": {
           "xaxis": {
            "backgroundcolor": "#E5ECF6",
            "gridcolor": "white",
            "gridwidth": 2,
            "linecolor": "white",
            "showbackground": true,
            "ticks": "",
            "zerolinecolor": "white"
           },
           "yaxis": {
            "backgroundcolor": "#E5ECF6",
            "gridcolor": "white",
            "gridwidth": 2,
            "linecolor": "white",
            "showbackground": true,
            "ticks": "",
            "zerolinecolor": "white"
           },
           "zaxis": {
            "backgroundcolor": "#E5ECF6",
            "gridcolor": "white",
            "gridwidth": 2,
            "linecolor": "white",
            "showbackground": true,
            "ticks": "",
            "zerolinecolor": "white"
           }
          },
          "shapedefaults": {
           "line": {
            "color": "#2a3f5f"
           }
          },
          "ternary": {
           "aaxis": {
            "gridcolor": "white",
            "linecolor": "white",
            "ticks": ""
           },
           "baxis": {
            "gridcolor": "white",
            "linecolor": "white",
            "ticks": ""
           },
           "bgcolor": "#E5ECF6",
           "caxis": {
            "gridcolor": "white",
            "linecolor": "white",
            "ticks": ""
           }
          },
          "title": {
           "x": 0.05
          },
          "xaxis": {
           "automargin": true,
           "gridcolor": "white",
           "linecolor": "white",
           "ticks": "",
           "title": {
            "standoff": 15
           },
           "zerolinecolor": "white",
           "zerolinewidth": 2
          },
          "yaxis": {
           "automargin": true,
           "gridcolor": "white",
           "linecolor": "white",
           "ticks": "",
           "title": {
            "standoff": 15
           },
           "zerolinecolor": "white",
           "zerolinewidth": 2
          }
         }
        },
        "xaxis": {
         "anchor": "y",
         "domain": [
          0,
          1
         ],
         "title": {
          "text": "Estimators_number"
         }
        },
        "yaxis": {
         "anchor": "x",
         "domain": [
          0,
          1
         ],
         "title": {
          "text": "Test_Gini"
         }
        }
       }
      },
      "text/html": [
       "<div>                            <div id=\"f60594b9-ebd8-425a-ac8a-fb58a6ebafa9\" class=\"plotly-graph-div\" style=\"height:525px; width:100%;\"></div>            <script type=\"text/javascript\">                require([\"plotly\"], function(Plotly) {                    window.PLOTLYENV=window.PLOTLYENV || {};                                    if (document.getElementById(\"f60594b9-ebd8-425a-ac8a-fb58a6ebafa9\")) {                    Plotly.newPlot(                        \"f60594b9-ebd8-425a-ac8a-fb58a6ebafa9\",                        [{\"hovertemplate\":\"Type=Bagging<br>Estimators_number=%{x}<br>Test_Gini=%{y}<br>Time=%{marker.size}<extra></extra>\",\"legendgroup\":\"Bagging\",\"marker\":{\"color\":\"#636efa\",\"size\":[1,2,2,2,3,3,3,4,5,6,7,7],\"sizemode\":\"area\",\"sizeref\":0.0175,\"symbol\":\"circle\"},\"mode\":\"markers\",\"name\":\"Bagging\",\"orientation\":\"v\",\"showlegend\":true,\"x\":[1,3,5,10,15,20,30,50,100,200,500,1000],\"xaxis\":\"x\",\"y\":[0.6331053109548122,0.6562600321270347,0.6585908926781117,0.6690332829636276,0.6671688632346164,0.6679566101945036,0.6696577434234081,0.6674471204125059,0.6732016948118926,0.6706307666533546,0.670539134811166,0.6705823875075421],\"yaxis\":\"y\",\"type\":\"scatter\"},{\"hovertemplate\":\"<b>LOWESS trendline</b><br><br>Type=Bagging<br>Estimators_number=%{x}<br>Test_Gini=%{y} <b>(trend)</b><extra></extra>\",\"legendgroup\":\"Bagging\",\"marker\":{\"color\":\"#636efa\",\"symbol\":\"circle\"},\"mode\":\"lines\",\"name\":\"Bagging\",\"showlegend\":false,\"x\":[1,3,5,10,15,20,30,50,100,200,500,1000],\"xaxis\":\"x\",\"y\":[0.6649631717469313,0.6652782705308888,0.6655933693148426,0.666381116274732,0.6671688632346167,0.6679576836250537,0.6676364340684208,0.6674679617711969,0.6730442324870315,0.670966114553915,0.6705006390109873,0.6705620783851884],\"yaxis\":\"y\",\"type\":\"scatter\"},{\"hovertemplate\":\"Type=Random Forest<br>Estimators_number=%{x}<br>Test_Gini=%{y}<br>Time=%{marker.size}<extra></extra>\",\"legendgroup\":\"Random Forest\",\"marker\":{\"color\":\"#EF553B\",\"size\":[1,1,1,2,2,2,2,2,2,3,4,5],\"sizemode\":\"area\",\"sizeref\":0.0175,\"symbol\":\"circle\"},\"mode\":\"markers\",\"name\":\"Random Forest\",\"orientation\":\"v\",\"showlegend\":true,\"x\":[1,3,5,10,15,20,30,50,100,200,500,1000],\"xaxis\":\"x\",\"y\":[0.506349545385528,0.6275888934454272,0.6321393744492751,0.6587066480165222,0.6593985452391955,0.6574291682032936,0.6651967495226991,0.6641547697661174,0.6718873497151199,0.6730472488215291,0.6722177138651049,0.6730664248260014],\"yaxis\":\"y\",\"type\":\"scatter\"},{\"hovertemplate\":\"<b>LOWESS trendline</b><br><br>Type=Random Forest<br>Estimators_number=%{x}<br>Test_Gini=%{y} <b>(trend)</b><extra></extra>\",\"legendgroup\":\"Random Forest\",\"marker\":{\"color\":\"#EF553B\",\"symbol\":\"circle\"},\"mode\":\"lines\",\"name\":\"Random Forest\",\"showlegend\":false,\"x\":[1,3,5,10,15,20,30,50,100,200,500,1000],\"xaxis\":\"x\",\"y\":[0.6591028789256558,0.6591105516973501,0.6591049023660598,0.659000731327978,0.6587079967356017,0.6605117432538365,0.6622744698811216,0.6645801965081306,0.6718105605484677,0.6733784092215148,0.6722756870318813,0.6730168199754306],\"yaxis\":\"y\",\"type\":\"scatter\"},{\"hovertemplate\":\"Type=Extra-Trees<br>Estimators_number=%{x}<br>Test_Gini=%{y}<br>Time=%{marker.size}<extra></extra>\",\"legendgroup\":\"Extra-Trees\",\"marker\":{\"color\":\"#00cc96\",\"size\":[1,1,1,1,1,2,2,2,2,3,3,4],\"sizemode\":\"area\",\"sizeref\":0.0175,\"symbol\":\"circle\"},\"mode\":\"markers\",\"name\":\"Extra-Trees\",\"orientation\":\"v\",\"showlegend\":true,\"x\":[1,3,5,10,15,20,30,50,100,200,500,1000],\"xaxis\":\"x\",\"y\":[0.35500008190755694,0.5293597293168621,0.6034255337103283,0.6117263621329938,0.6405699554546787,0.5935295728266241,0.6442886163500974,0.6309928035607624,0.6263789825484591,0.6341092911114332,0.6316917627290883,0.6316472876140495],\"yaxis\":\"y\",\"type\":\"scatter\"},{\"hovertemplate\":\"<b>LOWESS trendline</b><br><br>Type=Extra-Trees<br>Estimators_number=%{x}<br>Test_Gini=%{y} <b>(trend)</b><extra></extra>\",\"legendgroup\":\"Extra-Trees\",\"marker\":{\"color\":\"#00cc96\",\"symbol\":\"circle\"},\"mode\":\"lines\",\"name\":\"Extra-Trees\",\"showlegend\":false,\"x\":[1,3,5,10,15,20,30,50,100,200,500,1000],\"xaxis\":\"x\",\"y\":[0.5591659253574812,0.568841111828372,0.5778659531483701,0.598050918595875,0.6131308691618644,0.6223970744464861,0.6301145852993865,0.6346928278037923,0.626676450578146,0.6335795249037712,0.631873055096126,0.6315914326601572],\"yaxis\":\"y\",\"type\":\"scatter\"},{\"hovertemplate\":\"Type=AdaBoost<br>Estimators_number=%{x}<br>Test_Gini=%{y}<br>Time=%{marker.size}<extra></extra>\",\"legendgroup\":\"AdaBoost\",\"marker\":{\"color\":\"#ab63fa\",\"size\":[1,2,2,2,2,2,2,3,4,4,6,6],\"sizemode\":\"area\",\"sizeref\":0.0175,\"symbol\":\"circle\"},\"mode\":\"markers\",\"name\":\"AdaBoost\",\"orientation\":\"v\",\"showlegend\":true,\"x\":[1,3,5,10,15,20,30,50,100,200,500,1000],\"xaxis\":\"x\",\"y\":[0.32440312999747944,0.3940868966217883,0.5188039349216242,0.5404614355132167,0.5738793993133808,0.6075692191126258,0.6258058856980735,0.6608970212768304,0.6903808040623947,0.71096963542327,0.7269228404659671,0.734451174630077],\"yaxis\":\"y\",\"type\":\"scatter\"},{\"hovertemplate\":\"<b>LOWESS trendline</b><br><br>Type=AdaBoost<br>Estimators_number=%{x}<br>Test_Gini=%{y} <b>(trend)</b><extra></extra>\",\"legendgroup\":\"AdaBoost\",\"marker\":{\"color\":\"#ab63fa\",\"symbol\":\"circle\"},\"mode\":\"lines\",\"name\":\"AdaBoost\",\"showlegend\":false,\"x\":[1,3,5,10,15,20,30,50,100,200,500,1000],\"xaxis\":\"x\",\"y\":[0.48170552336769634,0.4947944407393027,0.5079081239716131,0.5407738325359269,0.5738199286237089,0.5909988818599957,0.6125494224220931,0.6621195146422905,0.6917876609825253,0.7118925695834694,0.7273493718172944,0.7351062831400483],\"yaxis\":\"y\",\"type\":\"scatter\"},{\"hovertemplate\":\"Type=Gradient Boosting<br>Estimators_number=%{x}<br>Test_Gini=%{y}<br>Time=%{marker.size}<extra></extra>\",\"legendgroup\":\"Gradient Boosting\",\"marker\":{\"color\":\"#FFA15A\",\"size\":[2,2,2,2,3,3,3,4,5,6,7,7],\"sizemode\":\"area\",\"sizeref\":0.0175,\"symbol\":\"circle\"},\"mode\":\"markers\",\"name\":\"Gradient Boosting\",\"orientation\":\"v\",\"showlegend\":true,\"x\":[1,3,5,10,15,20,30,50,100,200,500,1000],\"xaxis\":\"x\",\"y\":[0.6264155862784606,0.6591788044717946,0.6713120145170477,0.6892991342440078,0.7040527308461244,0.7143853209544173,0.7275781780097619,0.744640174596626,0.758891797639603,0.7693284695387175,0.7750109955732749,0.7743773862458903],\"yaxis\":\"y\",\"type\":\"scatter\"},{\"hovertemplate\":\"<b>LOWESS trendline</b><br><br>Type=Gradient Boosting<br>Estimators_number=%{x}<br>Test_Gini=%{y} <b>(trend)</b><extra></extra>\",\"legendgroup\":\"Gradient Boosting\",\"marker\":{\"color\":\"#FFA15A\",\"symbol\":\"circle\"},\"mode\":\"lines\",\"name\":\"Gradient Boosting\",\"showlegend\":false,\"x\":[1,3,5,10,15,20,30,50,100,200,500,1000],\"xaxis\":\"x\",\"y\":[0.6563416800596639,0.6630872644617313,0.6697587177575347,0.6861657994242538,0.7021170547697293,0.7114562320294264,0.7252297960463748,0.7458109872076795,0.7600372874394165,0.7699793958832529,0.7752582506687985,0.774730265770106],\"yaxis\":\"y\",\"type\":\"scatter\"},{\"hovertemplate\":\"Type=XGBoost<br>Estimators_number=%{x}<br>Test_Gini=%{y}<br>Time=%{marker.size}<extra></extra>\",\"legendgroup\":\"XGBoost\",\"marker\":{\"color\":\"#19d3f3\",\"size\":[1,1,1,1,2,2,2,2,2,3,4,5],\"sizemode\":\"area\",\"sizeref\":0.0175,\"symbol\":\"circle\"},\"mode\":\"markers\",\"name\":\"XGBoost\",\"orientation\":\"v\",\"showlegend\":true,\"x\":[1,3,5,10,15,20,30,50,100,200,500,1000],\"xaxis\":\"x\",\"y\":[0.626419820692657,0.6576769860552039,0.6714933454584051,0.6818546073413674,0.7014054923766089,0.7099384454386231,0.7252020797085796,0.7429278220973372,0.7596742336859765,0.7720849162484908,0.7796121986920395,0.7785750590525953],\"yaxis\":\"y\",\"type\":\"scatter\"},{\"hovertemplate\":\"<b>LOWESS trendline</b><br><br>Type=XGBoost<br>Estimators_number=%{x}<br>Test_Gini=%{y} <b>(trend)</b><extra></extra>\",\"legendgroup\":\"XGBoost\",\"marker\":{\"color\":\"#19d3f3\",\"symbol\":\"circle\"},\"mode\":\"lines\",\"name\":\"XGBoost\",\"showlegend\":false,\"x\":[1,3,5,10,15,20,30,50,100,200,500,1000],\"xaxis\":\"x\",\"y\":[0.6538278253609373,0.6601953411536251,0.6665204365948136,0.6821765947821318,0.697444579797398,0.7075239053425009,0.7222665139902344,0.744189960722452,0.7607769310053397,0.7727939248744313,0.7798958319623158,0.7790368848511118],\"yaxis\":\"y\",\"type\":\"scatter\"},{\"hovertemplate\":\"Type=LightGBM<br>Estimators_number=%{x}<br>Test_Gini=%{y}<br>Time=%{marker.size}<extra></extra>\",\"legendgroup\":\"LightGBM\",\"marker\":{\"color\":\"#FF6692\",\"size\":[1,1,1,1,1,1,1,1,1,2,2,2],\"sizemode\":\"area\",\"sizeref\":0.0175,\"symbol\":\"circle\"},\"mode\":\"markers\",\"name\":\"LightGBM\",\"orientation\":\"v\",\"showlegend\":true,\"x\":[1,3,5,10,15,20,30,50,100,200,500,1000],\"xaxis\":\"x\",\"y\":[0.6328145928155098,0.6636783320923303,0.6799476177083863,0.6970722439793471,0.7079998463717088,0.7141207857013359,0.7287516393556588,0.7446318048832596,0.7586729571670283,0.7722469252660309,0.7773620838493853,0.775397676330795],\"yaxis\":\"y\",\"type\":\"scatter\"},{\"hovertemplate\":\"<b>LOWESS trendline</b><br><br>Type=LightGBM<br>Estimators_number=%{x}<br>Test_Gini=%{y} <b>(trend)</b><extra></extra>\",\"legendgroup\":\"LightGBM\",\"marker\":{\"color\":\"#FF6692\",\"symbol\":\"circle\"},\"mode\":\"lines\",\"name\":\"LightGBM\",\"showlegend\":false,\"x\":[1,3,5,10,15,20,30,50,100,200,500,1000],\"xaxis\":\"x\",\"y\":[0.6578741757927006,0.6640374622964271,0.6701756371406111,0.6854101618826614,0.7012076113865077,0.7136172678318483,0.7260611878390926,0.7451759873663799,0.759607302900341,0.7727425905223063,0.777676378627442,0.7757804902019866],\"yaxis\":\"y\",\"type\":\"scatter\"},{\"hovertemplate\":\"Type=CatBoost<br>Estimators_number=%{x}<br>Test_Gini=%{y}<br>Time=%{marker.size}<extra></extra>\",\"legendgroup\":\"CatBoost\",\"marker\":{\"color\":\"#B6E880\",\"size\":[2,2,2,2,2,2,2,2,2,3,5,6],\"sizemode\":\"area\",\"sizeref\":0.0175,\"symbol\":\"circle\"},\"mode\":\"markers\",\"name\":\"CatBoost\",\"orientation\":\"v\",\"showlegend\":true,\"x\":[1,3,5,10,15,20,30,50,100,200,500,1000],\"xaxis\":\"x\",\"y\":[0.6197898403518476,0.674643433003129,0.7058789967962444,0.7210877378605778,0.7293103672803678,0.7334385659597427,0.7417578490497414,0.7491989674967412,0.7548211049480837,0.7780656078153299,0.7855288041345283,0.7889877643876129],\"yaxis\":\"y\",\"type\":\"scatter\"},{\"hovertemplate\":\"<b>LOWESS trendline</b><br><br>Type=CatBoost<br>Estimators_number=%{x}<br>Test_Gini=%{y} <b>(trend)</b><extra></extra>\",\"legendgroup\":\"CatBoost\",\"marker\":{\"color\":\"#B6E880\",\"symbol\":\"circle\"},\"mode\":\"lines\",\"name\":\"CatBoost\",\"showlegend\":false,\"x\":[1,3,5,10,15,20,30,50,100,200,500,1000],\"xaxis\":\"x\",\"y\":[0.7101508985357189,0.7127956534477493,0.7154206397809744,0.7218527022391601,0.7280452397409161,0.7330928194941247,0.739511401481042,0.7497613757974396,0.7554224485995356,0.7778174085807721,0.7860282683185008,0.7893892684942706],\"yaxis\":\"y\",\"type\":\"scatter\"}],                        {\"template\":{\"data\":{\"histogram2dcontour\":[{\"type\":\"histogram2dcontour\",\"colorbar\":{\"outlinewidth\":0,\"ticks\":\"\"},\"colorscale\":[[0.0,\"#0d0887\"],[0.1111111111111111,\"#46039f\"],[0.2222222222222222,\"#7201a8\"],[0.3333333333333333,\"#9c179e\"],[0.4444444444444444,\"#bd3786\"],[0.5555555555555556,\"#d8576b\"],[0.6666666666666666,\"#ed7953\"],[0.7777777777777778,\"#fb9f3a\"],[0.8888888888888888,\"#fdca26\"],[1.0,\"#f0f921\"]]}],\"choropleth\":[{\"type\":\"choropleth\",\"colorbar\":{\"outlinewidth\":0,\"ticks\":\"\"}}],\"histogram2d\":[{\"type\":\"histogram2d\",\"colorbar\":{\"outlinewidth\":0,\"ticks\":\"\"},\"colorscale\":[[0.0,\"#0d0887\"],[0.1111111111111111,\"#46039f\"],[0.2222222222222222,\"#7201a8\"],[0.3333333333333333,\"#9c179e\"],[0.4444444444444444,\"#bd3786\"],[0.5555555555555556,\"#d8576b\"],[0.6666666666666666,\"#ed7953\"],[0.7777777777777778,\"#fb9f3a\"],[0.8888888888888888,\"#fdca26\"],[1.0,\"#f0f921\"]]}],\"heatmap\":[{\"type\":\"heatmap\",\"colorbar\":{\"outlinewidth\":0,\"ticks\":\"\"},\"colorscale\":[[0.0,\"#0d0887\"],[0.1111111111111111,\"#46039f\"],[0.2222222222222222,\"#7201a8\"],[0.3333333333333333,\"#9c179e\"],[0.4444444444444444,\"#bd3786\"],[0.5555555555555556,\"#d8576b\"],[0.6666666666666666,\"#ed7953\"],[0.7777777777777778,\"#fb9f3a\"],[0.8888888888888888,\"#fdca26\"],[1.0,\"#f0f921\"]]}],\"heatmapgl\":[{\"type\":\"heatmapgl\",\"colorbar\":{\"outlinewidth\":0,\"ticks\":\"\"},\"colorscale\":[[0.0,\"#0d0887\"],[0.1111111111111111,\"#46039f\"],[0.2222222222222222,\"#7201a8\"],[0.3333333333333333,\"#9c179e\"],[0.4444444444444444,\"#bd3786\"],[0.5555555555555556,\"#d8576b\"],[0.6666666666666666,\"#ed7953\"],[0.7777777777777778,\"#fb9f3a\"],[0.8888888888888888,\"#fdca26\"],[1.0,\"#f0f921\"]]}],\"contourcarpet\":[{\"type\":\"contourcarpet\",\"colorbar\":{\"outlinewidth\":0,\"ticks\":\"\"}}],\"contour\":[{\"type\":\"contour\",\"colorbar\":{\"outlinewidth\":0,\"ticks\":\"\"},\"colorscale\":[[0.0,\"#0d0887\"],[0.1111111111111111,\"#46039f\"],[0.2222222222222222,\"#7201a8\"],[0.3333333333333333,\"#9c179e\"],[0.4444444444444444,\"#bd3786\"],[0.5555555555555556,\"#d8576b\"],[0.6666666666666666,\"#ed7953\"],[0.7777777777777778,\"#fb9f3a\"],[0.8888888888888888,\"#fdca26\"],[1.0,\"#f0f921\"]]}],\"surface\":[{\"type\":\"surface\",\"colorbar\":{\"outlinewidth\":0,\"ticks\":\"\"},\"colorscale\":[[0.0,\"#0d0887\"],[0.1111111111111111,\"#46039f\"],[0.2222222222222222,\"#7201a8\"],[0.3333333333333333,\"#9c179e\"],[0.4444444444444444,\"#bd3786\"],[0.5555555555555556,\"#d8576b\"],[0.6666666666666666,\"#ed7953\"],[0.7777777777777778,\"#fb9f3a\"],[0.8888888888888888,\"#fdca26\"],[1.0,\"#f0f921\"]]}],\"mesh3d\":[{\"type\":\"mesh3d\",\"colorbar\":{\"outlinewidth\":0,\"ticks\":\"\"}}],\"scatter\":[{\"fillpattern\":{\"fillmode\":\"overlay\",\"size\":10,\"solidity\":0.2},\"type\":\"scatter\"}],\"parcoords\":[{\"type\":\"parcoords\",\"line\":{\"colorbar\":{\"outlinewidth\":0,\"ticks\":\"\"}}}],\"scatterpolargl\":[{\"type\":\"scatterpolargl\",\"marker\":{\"colorbar\":{\"outlinewidth\":0,\"ticks\":\"\"}}}],\"bar\":[{\"error_x\":{\"color\":\"#2a3f5f\"},\"error_y\":{\"color\":\"#2a3f5f\"},\"marker\":{\"line\":{\"color\":\"#E5ECF6\",\"width\":0.5},\"pattern\":{\"fillmode\":\"overlay\",\"size\":10,\"solidity\":0.2}},\"type\":\"bar\"}],\"scattergeo\":[{\"type\":\"scattergeo\",\"marker\":{\"colorbar\":{\"outlinewidth\":0,\"ticks\":\"\"}}}],\"scatterpolar\":[{\"type\":\"scatterpolar\",\"marker\":{\"colorbar\":{\"outlinewidth\":0,\"ticks\":\"\"}}}],\"histogram\":[{\"marker\":{\"pattern\":{\"fillmode\":\"overlay\",\"size\":10,\"solidity\":0.2}},\"type\":\"histogram\"}],\"scattergl\":[{\"type\":\"scattergl\",\"marker\":{\"colorbar\":{\"outlinewidth\":0,\"ticks\":\"\"}}}],\"scatter3d\":[{\"type\":\"scatter3d\",\"line\":{\"colorbar\":{\"outlinewidth\":0,\"ticks\":\"\"}},\"marker\":{\"colorbar\":{\"outlinewidth\":0,\"ticks\":\"\"}}}],\"scattermapbox\":[{\"type\":\"scattermapbox\",\"marker\":{\"colorbar\":{\"outlinewidth\":0,\"ticks\":\"\"}}}],\"scatterternary\":[{\"type\":\"scatterternary\",\"marker\":{\"colorbar\":{\"outlinewidth\":0,\"ticks\":\"\"}}}],\"scattercarpet\":[{\"type\":\"scattercarpet\",\"marker\":{\"colorbar\":{\"outlinewidth\":0,\"ticks\":\"\"}}}],\"carpet\":[{\"aaxis\":{\"endlinecolor\":\"#2a3f5f\",\"gridcolor\":\"white\",\"linecolor\":\"white\",\"minorgridcolor\":\"white\",\"startlinecolor\":\"#2a3f5f\"},\"baxis\":{\"endlinecolor\":\"#2a3f5f\",\"gridcolor\":\"white\",\"linecolor\":\"white\",\"minorgridcolor\":\"white\",\"startlinecolor\":\"#2a3f5f\"},\"type\":\"carpet\"}],\"table\":[{\"cells\":{\"fill\":{\"color\":\"#EBF0F8\"},\"line\":{\"color\":\"white\"}},\"header\":{\"fill\":{\"color\":\"#C8D4E3\"},\"line\":{\"color\":\"white\"}},\"type\":\"table\"}],\"barpolar\":[{\"marker\":{\"line\":{\"color\":\"#E5ECF6\",\"width\":0.5},\"pattern\":{\"fillmode\":\"overlay\",\"size\":10,\"solidity\":0.2}},\"type\":\"barpolar\"}],\"pie\":[{\"automargin\":true,\"type\":\"pie\"}]},\"layout\":{\"autotypenumbers\":\"strict\",\"colorway\":[\"#636efa\",\"#EF553B\",\"#00cc96\",\"#ab63fa\",\"#FFA15A\",\"#19d3f3\",\"#FF6692\",\"#B6E880\",\"#FF97FF\",\"#FECB52\"],\"font\":{\"color\":\"#2a3f5f\"},\"hovermode\":\"closest\",\"hoverlabel\":{\"align\":\"left\"},\"paper_bgcolor\":\"white\",\"plot_bgcolor\":\"#E5ECF6\",\"polar\":{\"bgcolor\":\"#E5ECF6\",\"angularaxis\":{\"gridcolor\":\"white\",\"linecolor\":\"white\",\"ticks\":\"\"},\"radialaxis\":{\"gridcolor\":\"white\",\"linecolor\":\"white\",\"ticks\":\"\"}},\"ternary\":{\"bgcolor\":\"#E5ECF6\",\"aaxis\":{\"gridcolor\":\"white\",\"linecolor\":\"white\",\"ticks\":\"\"},\"baxis\":{\"gridcolor\":\"white\",\"linecolor\":\"white\",\"ticks\":\"\"},\"caxis\":{\"gridcolor\":\"white\",\"linecolor\":\"white\",\"ticks\":\"\"}},\"coloraxis\":{\"colorbar\":{\"outlinewidth\":0,\"ticks\":\"\"}},\"colorscale\":{\"sequential\":[[0.0,\"#0d0887\"],[0.1111111111111111,\"#46039f\"],[0.2222222222222222,\"#7201a8\"],[0.3333333333333333,\"#9c179e\"],[0.4444444444444444,\"#bd3786\"],[0.5555555555555556,\"#d8576b\"],[0.6666666666666666,\"#ed7953\"],[0.7777777777777778,\"#fb9f3a\"],[0.8888888888888888,\"#fdca26\"],[1.0,\"#f0f921\"]],\"sequentialminus\":[[0.0,\"#0d0887\"],[0.1111111111111111,\"#46039f\"],[0.2222222222222222,\"#7201a8\"],[0.3333333333333333,\"#9c179e\"],[0.4444444444444444,\"#bd3786\"],[0.5555555555555556,\"#d8576b\"],[0.6666666666666666,\"#ed7953\"],[0.7777777777777778,\"#fb9f3a\"],[0.8888888888888888,\"#fdca26\"],[1.0,\"#f0f921\"]],\"diverging\":[[0,\"#8e0152\"],[0.1,\"#c51b7d\"],[0.2,\"#de77ae\"],[0.3,\"#f1b6da\"],[0.4,\"#fde0ef\"],[0.5,\"#f7f7f7\"],[0.6,\"#e6f5d0\"],[0.7,\"#b8e186\"],[0.8,\"#7fbc41\"],[0.9,\"#4d9221\"],[1,\"#276419\"]]},\"xaxis\":{\"gridcolor\":\"white\",\"linecolor\":\"white\",\"ticks\":\"\",\"title\":{\"standoff\":15},\"zerolinecolor\":\"white\",\"automargin\":true,\"zerolinewidth\":2},\"yaxis\":{\"gridcolor\":\"white\",\"linecolor\":\"white\",\"ticks\":\"\",\"title\":{\"standoff\":15},\"zerolinecolor\":\"white\",\"automargin\":true,\"zerolinewidth\":2},\"scene\":{\"xaxis\":{\"backgroundcolor\":\"#E5ECF6\",\"gridcolor\":\"white\",\"linecolor\":\"white\",\"showbackground\":true,\"ticks\":\"\",\"zerolinecolor\":\"white\",\"gridwidth\":2},\"yaxis\":{\"backgroundcolor\":\"#E5ECF6\",\"gridcolor\":\"white\",\"linecolor\":\"white\",\"showbackground\":true,\"ticks\":\"\",\"zerolinecolor\":\"white\",\"gridwidth\":2},\"zaxis\":{\"backgroundcolor\":\"#E5ECF6\",\"gridcolor\":\"white\",\"linecolor\":\"white\",\"showbackground\":true,\"ticks\":\"\",\"zerolinecolor\":\"white\",\"gridwidth\":2}},\"shapedefaults\":{\"line\":{\"color\":\"#2a3f5f\"}},\"annotationdefaults\":{\"arrowcolor\":\"#2a3f5f\",\"arrowhead\":0,\"arrowwidth\":1},\"geo\":{\"bgcolor\":\"white\",\"landcolor\":\"#E5ECF6\",\"subunitcolor\":\"white\",\"showland\":true,\"showlakes\":true,\"lakecolor\":\"white\"},\"title\":{\"x\":0.05},\"mapbox\":{\"style\":\"light\"}}},\"xaxis\":{\"anchor\":\"y\",\"domain\":[0.0,1.0],\"title\":{\"text\":\"Estimators_number\"}},\"yaxis\":{\"anchor\":\"x\",\"domain\":[0.0,1.0],\"title\":{\"text\":\"Test_Gini\"}},\"legend\":{\"title\":{\"text\":\"Type\"},\"tracegroupgap\":0,\"itemsizing\":\"constant\"},\"margin\":{\"t\":60}},                        {\"responsive\": true}                    ).then(function(){\n",
       "                            \n",
       "var gd = document.getElementById('f60594b9-ebd8-425a-ac8a-fb58a6ebafa9');\n",
       "var x = new MutationObserver(function (mutations, observer) {{\n",
       "        var display = window.getComputedStyle(gd).display;\n",
       "        if (!display || display === 'none') {{\n",
       "            console.log([gd, 'removed!']);\n",
       "            Plotly.purge(gd);\n",
       "            observer.disconnect();\n",
       "        }}\n",
       "}});\n",
       "\n",
       "// Listen for the removal of the full notebook cells\n",
       "var notebookContainer = gd.closest('#notebook-container');\n",
       "if (notebookContainer) {{\n",
       "    x.observe(notebookContainer, {childList: true});\n",
       "}}\n",
       "\n",
       "// Listen for the clearing of the current output cell\n",
       "var outputEl = gd.closest('.output');\n",
       "if (outputEl) {{\n",
       "    x.observe(outputEl, {childList: true});\n",
       "}}\n",
       "\n",
       "                        })                };                });            </script>        </div>"
      ]
     },
     "metadata": {},
     "output_type": "display_data"
    }
   ],
   "source": [
    "fig = px.scatter(models, x = 'Estimators_number', y = 'Test_Gini', color = 'Type', size = 'Time', trendline = 'lowess')\n",
    "fig.show()"
   ]
  }
 ],
 "metadata": {
  "kernelspec": {
   "display_name": "Python 3",
   "language": "python",
   "name": "python3"
  },
  "language_info": {
   "codemirror_mode": {
    "name": "ipython",
    "version": 3
   },
   "file_extension": ".py",
   "mimetype": "text/x-python",
   "name": "python",
   "nbconvert_exporter": "python",
   "pygments_lexer": "ipython3",
   "version": "3.8.5"
  }
 },
 "nbformat": 4,
 "nbformat_minor": 4
}
