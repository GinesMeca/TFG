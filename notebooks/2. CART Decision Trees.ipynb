{
 "cells": [
  {
   "cell_type": "markdown",
   "metadata": {},
   "source": [
    "# 2. CART Decision Trees\n",
    "\n",
    "This notebook will show different examples of CART decision trees.\n",
    "The dataset used for them is [Rain in Australia](https://www.kaggle.com/jsphyg/weather-dataset-rattle-package) challenge from Kaggle. It contains about 10 years of daily weather observations from many locations across Australia. \n",
    "\n",
    "### Index:\n",
    "1. [Packages required](#1.-Packages-required)\n",
    "2. [Loading data](#2.-Loading-data)\n",
    "3. [Example 1](#3.-Example-1)"
   ]
  },
  {
   "cell_type": "markdown",
   "metadata": {},
   "source": [
    "# 1. Packages required"
   ]
  },
  {
   "cell_type": "code",
   "execution_count": 19,
   "metadata": {},
   "outputs": [],
   "source": [
    "import os\n",
    "import numpy as np\n",
    "import pandas as pd\n",
    "from sklearn.model_selection import train_test_split\n",
    "from sklearn import tree"
   ]
  },
  {
   "cell_type": "markdown",
   "metadata": {},
   "source": [
    "# 2. Loading data"
   ]
  },
  {
   "cell_type": "code",
   "execution_count": null,
   "metadata": {},
   "outputs": [],
   "source": [
    "!pip install kaggle"
   ]
  },
  {
   "cell_type": "code",
   "execution_count": 21,
   "metadata": {},
   "outputs": [],
   "source": [
    "os.environ['KAGGLE_USERNAME'] = \"ginesmeca\" #User name in Kaggle\n",
    "os.environ['KAGGLE_KEY'] = \"4fab0a819b6b377c5f6fd16dede7d525\" # Kaggle/ account / create key\n",
    "\n",
    "import kaggle\n",
    "\n",
    "kaggle.api.authenticate()\n",
    "kaggle.api.dataset_download_files('jsphyg/weather-dataset-rattle-package', path='../data/01_raw', unzip=True)\n",
    "\n",
    "weather = pd.read_csv('../data/01_raw/weatherAUS.csv')"
   ]
  },
  {
   "cell_type": "markdown",
   "metadata": {},
   "source": [
    "# 3. Example 1"
   ]
  },
  {
   "cell_type": "markdown",
   "metadata": {},
   "source": [
    "We are interested in show how is, graphically, a decision tree. We build one focus on predict 'RainTomorrow' with only two dependent variables (to graph it) and with maximum depth equals to 2. The dependent variables we will choose are: 'MinTemp' and 'Rainfall'."
   ]
  },
  {
   "cell_type": "code",
   "execution_count": 22,
   "metadata": {},
   "outputs": [
    {
     "data": {
      "text/html": [
       "<div>\n",
       "<style scoped>\n",
       "    .dataframe tbody tr th:only-of-type {\n",
       "        vertical-align: middle;\n",
       "    }\n",
       "\n",
       "    .dataframe tbody tr th {\n",
       "        vertical-align: top;\n",
       "    }\n",
       "\n",
       "    .dataframe thead th {\n",
       "        text-align: right;\n",
       "    }\n",
       "</style>\n",
       "<table border=\"1\" class=\"dataframe\">\n",
       "  <thead>\n",
       "    <tr style=\"text-align: right;\">\n",
       "      <th></th>\n",
       "      <th>MinTemp</th>\n",
       "      <th>Rainfall</th>\n",
       "      <th>RainTomorrow</th>\n",
       "    </tr>\n",
       "  </thead>\n",
       "  <tbody>\n",
       "    <tr>\n",
       "      <th>0</th>\n",
       "      <td>13.4</td>\n",
       "      <td>0.6</td>\n",
       "      <td>No</td>\n",
       "    </tr>\n",
       "    <tr>\n",
       "      <th>1</th>\n",
       "      <td>7.4</td>\n",
       "      <td>0.0</td>\n",
       "      <td>No</td>\n",
       "    </tr>\n",
       "    <tr>\n",
       "      <th>2</th>\n",
       "      <td>12.9</td>\n",
       "      <td>0.0</td>\n",
       "      <td>No</td>\n",
       "    </tr>\n",
       "    <tr>\n",
       "      <th>3</th>\n",
       "      <td>9.2</td>\n",
       "      <td>0.0</td>\n",
       "      <td>No</td>\n",
       "    </tr>\n",
       "    <tr>\n",
       "      <th>4</th>\n",
       "      <td>17.5</td>\n",
       "      <td>1.0</td>\n",
       "      <td>No</td>\n",
       "    </tr>\n",
       "  </tbody>\n",
       "</table>\n",
       "</div>"
      ],
      "text/plain": [
       "   MinTemp  Rainfall RainTomorrow\n",
       "0     13.4       0.6           No\n",
       "1      7.4       0.0           No\n",
       "2     12.9       0.0           No\n",
       "3      9.2       0.0           No\n",
       "4     17.5       1.0           No"
      ]
     },
     "execution_count": 22,
     "metadata": {},
     "output_type": "execute_result"
    }
   ],
   "source": [
    "#We select the variables we are interested in:\n",
    "data_ex1 = weather[['MinTemp', 'Rainfall', 'RainTomorrow']].dropna()\n",
    "data_ex1.head()"
   ]
  },
  {
   "cell_type": "code",
   "execution_count": 24,
   "metadata": {},
   "outputs": [
    {
     "data": {
      "text/plain": [
       "[Text(167.4, 181.2, 'X[1] <= 0.55\\ngini = 0.344\\nsamples = 112255\\nvalue = [87464, 24791]'),\n",
       " Text(83.7, 108.72, 'X[1] <= 0.15\\ngini = 0.243\\nsamples = 82072\\nvalue = [70461, 11611]'),\n",
       " Text(41.85, 36.23999999999998, 'gini = 0.226\\nsamples = 72131\\nvalue = [62779, 9352]'),\n",
       " Text(125.55000000000001, 36.23999999999998, 'gini = 0.351\\nsamples = 9941\\nvalue = [7682, 2259]'),\n",
       " Text(251.10000000000002, 108.72, 'X[1] <= 5.95\\ngini = 0.492\\nsamples = 30183\\nvalue = [17003, 13180]'),\n",
       " Text(209.25, 36.23999999999998, 'gini = 0.462\\nsamples = 18714\\nvalue = [11923, 6791]'),\n",
       " Text(292.95, 36.23999999999998, 'gini = 0.493\\nsamples = 11469\\nvalue = [5080, 6389]')]"
      ]
     },
     "execution_count": 24,
     "metadata": {},
     "output_type": "execute_result"
    },
    {
     "data": {
      "image/png": "[encoded data removed]",
      "text/plain": [
       "<Figure size 432x288 with 1 Axes>"
      ]
     },
     "metadata": {
      "needs_background": "light"
     },
     "output_type": "display_data"
    }
   ],
   "source": [
    "#We obtain our dependent and independent variables:\n",
    "x_ex1 = data_ex1[['MinTemp', 'Rainfall']]\n",
    "y_ex1 = data_ex1['RainTomorrow']\n",
    "#We separate in train/test data:\n",
    "x_train, x_test, y_train, y_test = train_test_split(x_ex1, y_ex1, test_size=0.2)\n",
    "\n",
    "ex1 = tree.DecisionTreeClassifier(max_depth = 2)\n",
    "\n",
    "ex1.fit(x_train, y_train)\n",
    "\n",
    "tree.plot_tree(ex1)"
   ]
  },
  {
   "cell_type": "code",
   "execution_count": null,
   "metadata": {},
   "outputs": [],
   "source": []
  }
 ],
 "metadata": {
  "kernelspec": {
   "display_name": "Python 3",
   "language": "python",
   "name": "python3"
  },
  "language_info": {
   "codemirror_mode": {
    "name": "ipython",
    "version": 3
   },
   "file_extension": ".py",
   "mimetype": "text/x-python",
   "name": "python",
   "nbconvert_exporter": "python",
   "pygments_lexer": "ipython3",
   "version": "3.8.5"
  }
 },
 "nbformat": 4,
 "nbformat_minor": 4
}
