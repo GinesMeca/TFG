{
 "cells": [
  {
   "cell_type": "markdown",
   "metadata": {},
   "source": [
    "# 5. Boosting algortihms (Theory)\n",
    "\n",
    "This notebook will resume theorical concepts about boosting algorithms and it will show some useful plots and graphs for an easily understanding.\n",
    "\n",
    "### Index:\n",
    "1. [Introduction](#1.-Introduction)\n",
    "2. [AdaBoost](#2.-AdaBoost)\n",
    "3. [Gradient Boosting](#3.-Gradient-Boosting)\n",
    "4. [XGBoost](#4.-XGBoost)\n",
    "5. [LightGBM](#5.-LightGBM)\n",
    "6. [CatBoost](#6.-CatBoost)"
   ]
  },
  {
   "cell_type": "markdown",
   "metadata": {},
   "source": [
    "# 1. Introduction"
   ]
  },
  {
   "cell_type": "markdown",
   "metadata": {},
   "source": [
    "Boosting algorithms were created in 1997 with the emergence of AdaBoost (by Freund & Schapire). They work building some weak learners (simple models) and ensembling them, creating a complex model. Also, these weak learners, in our case decision trees, are built sequentially; so, every decision tree (except the first) is allowed to correct the errors made by the last one. It's possible taking into account the weight of each sample and modifying it in each step.\n",
    "\n",
    "There are some boosting algorithms and some versions of each one. We will study: AdaBoost, Gradient Boosting, XGBoost, LightGBM and CatBoost.\n",
    "\n",
    "We also show some examples. That's the reason why we will need these python packages:"
   ]
  },
  {
   "cell_type": "code",
   "execution_count": 3,
   "metadata": {},
   "outputs": [],
   "source": [
    "#We load packages required:\n",
    "import numpy as np\n",
    "import matplotlib.pyplot as plt\n",
    "import pandas as pd"
   ]
  },
  {
   "cell_type": "markdown",
   "metadata": {},
   "source": [
    "# 2. AdaBoost"
   ]
  },
  {
   "cell_type": "markdown",
   "metadata": {},
   "source": [
    "#### 2.1 Theory"
   ]
  },
  {
   "cell_type": "markdown",
   "metadata": {},
   "source": [
    "AdaBoost was the first boosting algorithm created. It uses stumps as a weak learners, i.e., decision trees with only two leaf nodes. These weak learners are very imprecise, but the combination of them and the way of building them results in a very attractive method.\n",
    "\n",
    "The AdaBoot algorithm we will analyze is:\n",
    "\n",
    "<img src=https://i.stack.imgur.com/ljZmk.jpg>"
   ]
  },
  {
   "cell_type": "markdown",
   "metadata": {},
   "source": [
    "Firstly, we assign the same weight for all samples, because we haven't done any prediction yet. So:\n",
    "\n",
    "\\begin{equation}\n",
    "w_i = 1/N \\, \\, \\, \\forall i \\in \\{ 1, 2, \\dots, N \\}\n",
    "\\end{equation}\n",
    "\n",
    "Then, we fit our stump ($G_m(x)$) using the weighted training data (if m = 1, we fit it like always), and we calculate the error made by the stump with:\n",
    "\n",
    "\\begin{equation}\n",
    "err_m = \\frac{\\sum_{i=1}^{N} w_i I(y_i \\neq G_m(x_i))}{\\sum_{i=1}^{N} w_i}\n",
    "\\end{equation}\n",
    "\n",
    "In this expression we have the sum of weights from incorrect classified values divided by the sum of total weights. The denominator is necessary in the expression because we can find a case where $\\sum_{i=1}^{N} w_i \\neq 1$ due to posterior modifications. So, if we define $err_m$ as we say, we can be sure of: $err_m \\in [0, 1]$.\n",
    "\n",
    "Note that in first step ( m = 1 ):\n",
    "\n",
    "\\begin{equation}\n",
    "err_1 = \\frac{\\sum_{i=1}^{N} w_i I(y_i \\neq G_1(x_i))}{\\sum_{i=1}^{N} w_i} = \\frac{\\frac{1}{N} \\sum_{i=1}^{N}I(y_i \\neq G_1(x_i))}{1} = \\frac{num\\_of\\_errors}{N}\n",
    "\\end{equation}\n",
    "\n",
    "Now, in 3c, we can observe that we have to define:\n",
    "\n",
    "\\begin{equation}\n",
    "\\alpha_m = \\log \\left( \\frac{1 - err_m}{err_m} \\right)\n",
    "\\end{equation}\n",
    "\n",
    "This value is also called: 'Amount of Say' for the stump. Let's plot this function to get conclusions:"
   ]
  },
  {
   "cell_type": "code",
   "execution_count": 3,
   "metadata": {},
   "outputs": [
    {
     "name": "stderr",
     "output_type": "stream",
     "text": [
      "<ipython-input-3-068c4c148198>:6: RuntimeWarning: divide by zero encountered in true_divide\n",
      "  alpha = lambda x: np.log((1- x)/x)\n",
      "<ipython-input-3-068c4c148198>:6: RuntimeWarning: divide by zero encountered in log\n",
      "  alpha = lambda x: np.log((1- x)/x)\n"
     ]
    },
    {
     "data": {
      "image/png": "[encoded data removed]",
      "text/plain": [
       "<Figure size 432x288 with 1 Axes>"
      ]
     },
     "metadata": {
      "needs_background": "light"
     },
     "output_type": "display_data"
    }
   ],
   "source": [
    "#We define our function:\n",
    "alpha = lambda x: np.log((1- x)/x)\n",
    "\n",
    "#We plot it:\n",
    "x = np.linspace(0, 1, 1000)\n",
    "\n",
    "plt.plot(x, alpha(x))\n",
    "plt.xlabel(r'$err_m$')\n",
    "plt.ylabel(r'$\\alpha_m$')\n",
    "plt.show()\n",
    "\n"
   ]
  },
  {
   "cell_type": "markdown",
   "metadata": {},
   "source": [
    "As we can see, a good classification job ($err_m \\simeq 0$) implies high $\\alpha_m$ values. On the other hand, a poor classification job implies high negative values of $\\alpha_m$."
   ]
  },
  {
   "cell_type": "markdown",
   "metadata": {},
   "source": [
    "Ending with the loop, we only have to reassign weights to training observations. The process to do it is defining:\n",
    "\\begin{equation*}\n",
    "w_i^{m+1} =\n",
    "\\left\\{\n",
    "\\begin{array}{crl}\n",
    "w_i^m & si & y_i = G_m(x_i) \\\\\n",
    "w_i^m e^{\\alpha_m} & si & y_i \\neq G_m(x_i) \\\\\n",
    "\\end{array}\n",
    "\\right.\n",
    "\\end{equation*}\n",
    "where $w_i^m$ is the weight of the observation i in the iteration m.\n",
    "\n",
    "With this reassignment we obtain an increasement of weights of misclassified observations."
   ]
  },
  {
   "cell_type": "markdown",
   "metadata": {},
   "source": [
    "Before starting with the last step, we have to emphasize the way of building stumps. Where m = 1, we use the Gini index as a impurity function:\n",
    "\\begin{equation*}\n",
    "G_{region} = \\sum_{k=1}^K p_{rk}(1 - p_{rk}) = 1 - \\sum_{k=1}^K p_{rk}^2\n",
    "\\end{equation*}\n",
    "where $p_{rk}$ is the proportion of training observations from class k that are in region r; and K is the total number of classes. In the same way, each node determines two regions; so we can define:\n",
    "\\begin{equation*}\n",
    "G_{node} = \\frac{n_1}{n_1 + n_2}G_1 + \\frac{n_2}{n_1 + n_2}G_2\n",
    "\\end{equation*}\n",
    "where $n_1$ and $n_2$ are the number of observations in each region, respectively. That allows us to determinate which is the region that minimizes Gini index and to choose the correct variable and the value that make this regions.\n",
    "\n",
    "Nevertheless, this Gini index is only correct where all observations have the same weight. So, where m > 1, we need to define a weighted Gini index."
   ]
  },
  {
   "cell_type": "markdown",
   "metadata": {},
   "source": [
    "#### 2.2 Example step by step"
   ]
  },
  {
   "cell_type": "markdown",
   "metadata": {},
   "source": [
    "To end with AdaBoost algorithm, we will show, step by step, which is the process with an example. We will use the dataset 'Rain in Australia' like in the other notebooks but choosing only the 5 first observations and the variables: 'Humidity3pm' and 'Cloud3pm'."
   ]
  },
  {
   "cell_type": "code",
   "execution_count": 10,
   "metadata": {},
   "outputs": [
    {
     "data": {
      "text/html": [
       "<div>\n",
       "<style scoped>\n",
       "    .dataframe tbody tr th:only-of-type {\n",
       "        vertical-align: middle;\n",
       "    }\n",
       "\n",
       "    .dataframe tbody tr th {\n",
       "        vertical-align: top;\n",
       "    }\n",
       "\n",
       "    .dataframe thead th {\n",
       "        text-align: right;\n",
       "    }\n",
       "</style>\n",
       "<table border=\"1\" class=\"dataframe\">\n",
       "  <thead>\n",
       "    <tr style=\"text-align: right;\">\n",
       "      <th></th>\n",
       "      <th>Humidity3pm</th>\n",
       "      <th>Cloud3pm</th>\n",
       "    </tr>\n",
       "  </thead>\n",
       "  <tbody>\n",
       "    <tr>\n",
       "      <th>0</th>\n",
       "      <td>22.0</td>\n",
       "      <td>-1.0</td>\n",
       "    </tr>\n",
       "    <tr>\n",
       "      <th>1</th>\n",
       "      <td>25.0</td>\n",
       "      <td>-1.0</td>\n",
       "    </tr>\n",
       "    <tr>\n",
       "      <th>2</th>\n",
       "      <td>30.0</td>\n",
       "      <td>2.0</td>\n",
       "    </tr>\n",
       "    <tr>\n",
       "      <th>3</th>\n",
       "      <td>16.0</td>\n",
       "      <td>-1.0</td>\n",
       "    </tr>\n",
       "    <tr>\n",
       "      <th>4</th>\n",
       "      <td>33.0</td>\n",
       "      <td>8.0</td>\n",
       "    </tr>\n",
       "  </tbody>\n",
       "</table>\n",
       "</div>"
      ],
      "text/plain": [
       "   Humidity3pm  Cloud3pm\n",
       "0         22.0      -1.0\n",
       "1         25.0      -1.0\n",
       "2         30.0       2.0\n",
       "3         16.0      -1.0\n",
       "4         33.0       8.0"
      ]
     },
     "execution_count": 10,
     "metadata": {},
     "output_type": "execute_result"
    }
   ],
   "source": [
    "#We load data:\n",
    "weather = pd.read_parquet('../data/04_model_input/master.parquet')\n",
    "\n",
    "#We choose the variables and observations we are interested in:\n",
    "observations = [0, 1, 2, 3, 4]\n",
    "model_columns = ['Humidity3pm', 'Cloud3pm']\n",
    "\n",
    "#We put it in train variable and solve Nan problems\n",
    "train = weather.loc[observations, model_columns].fillna(-1)\n",
    "\n",
    "#We show it:\n",
    "train"
   ]
  },
  {
   "cell_type": "markdown",
   "metadata": {},
   "source": [
    "# 3. Gradient Boosting"
   ]
  },
  {
   "cell_type": "markdown",
   "metadata": {},
   "source": [
    "# 4. XGBoost"
   ]
  },
  {
   "cell_type": "markdown",
   "metadata": {},
   "source": [
    "# 5. LightGBM"
   ]
  },
  {
   "cell_type": "markdown",
   "metadata": {},
   "source": [
    "# 6. CatBoost"
   ]
  }
 ],
 "metadata": {
  "kernelspec": {
   "display_name": "Python 3",
   "language": "python",
   "name": "python3"
  },
  "language_info": {
   "codemirror_mode": {
    "name": "ipython",
    "version": 3
   },
   "file_extension": ".py",
   "mimetype": "text/x-python",
   "name": "python",
   "nbconvert_exporter": "python",
   "pygments_lexer": "ipython3",
   "version": "3.8.5"
  }
 },
 "nbformat": 4,
 "nbformat_minor": 4
}
