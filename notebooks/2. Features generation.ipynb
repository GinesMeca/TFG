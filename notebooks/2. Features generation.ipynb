{
 "cells": [
  {
   "cell_type": "markdown",
   "metadata": {},
   "source": [
    "# 2. Features generation\n",
    "\n",
    "This notebook computes features for the modelling piece.\n",
    "\n",
    "### Index:"
   ]
  },
  {
   "cell_type": "code",
   "execution_count": 2,
   "metadata": {},
   "outputs": [
    {
     "name": "stderr",
     "output_type": "stream",
     "text": [
      "C:\\Users\\REBOLJU2\\.conda\\envs\\py37\\lib\\site-packages\\numpy\\_distributor_init.py:32: UserWarning: loaded more than 1 DLL from .libs:\n",
      "C:\\Users\\REBOLJU2\\.conda\\envs\\py37\\lib\\site-packages\\numpy\\.libs\\libopenblas.JPIJNSWNNAN3CE6LLI5FWSPHUT2VXMTH.gfortran-win_amd64.dll\n",
      "C:\\Users\\REBOLJU2\\.conda\\envs\\py37\\lib\\site-packages\\numpy\\.libs\\libopenblas.WCDJNK7YVMPZQ2ME2ZZHJJRJ3JIKNDB7.gfortran-win_amd64.dll\n",
      "  stacklevel=1)\n"
     ]
    }
   ],
   "source": [
    "import os\n",
    "import numpy as np\n",
    "import pandas as pd"
   ]
  },
  {
   "cell_type": "code",
   "execution_count": 3,
   "metadata": {},
   "outputs": [],
   "source": [
    "weather = pd.read_parquet('../data/03_primary/weather_primary.parquet')"
   ]
  },
  {
   "cell_type": "markdown",
   "metadata": {},
   "source": [
    "# 1. Date features creation\n",
    "In a time series prediction, the day and the month can be important to track seasonal patterns.\n",
    "The year it is not included to avoid overfitting for predicting the future."
   ]
  },
  {
   "cell_type": "code",
   "execution_count": 7,
   "metadata": {},
   "outputs": [],
   "source": [
    "weather['Date_month'] = weather.Date.dt.month\n",
    "weather['Date_month'] = weather.Date.dt.day"
   ]
  },
  {
   "cell_type": "markdown",
   "metadata": {},
   "source": [
    "# 2. Charatec features encoding\n",
    "The model may need string variables to become numeric to be used."
   ]
  },
  {
   "cell_type": "markdown",
   "metadata": {},
   "source": [
    "## 2.1 Location"
   ]
  },
  {
   "cell_type": "code",
   "execution_count": 42,
   "metadata": {},
   "outputs": [
    {
     "data": {
      "text/plain": [
       "{'Adelaide': 0, 'Albany': 1, 'Albury': 2}"
      ]
     },
     "execution_count": 42,
     "metadata": {},
     "output_type": "execute_result"
    }
   ],
   "source": [
    "locations = weather.Location.unique()\n",
    "locations.sort() # keep order to make it replicable\n",
    "locations = {x:i for i, x in enumerate(locations)}\n",
    "dict(list(locations.items())[:3])"
   ]
  },
  {
   "cell_type": "code",
   "execution_count": 56,
   "metadata": {},
   "outputs": [
    {
     "data": {
      "text/html": [
       "<div>\n",
       "<style scoped>\n",
       "    .dataframe tbody tr th:only-of-type {\n",
       "        vertical-align: middle;\n",
       "    }\n",
       "\n",
       "    .dataframe tbody tr th {\n",
       "        vertical-align: top;\n",
       "    }\n",
       "\n",
       "    .dataframe thead th {\n",
       "        text-align: right;\n",
       "    }\n",
       "</style>\n",
       "<table border=\"1\" class=\"dataframe\">\n",
       "  <thead>\n",
       "    <tr style=\"text-align: right;\">\n",
       "      <th></th>\n",
       "      <th>Location</th>\n",
       "      <th>Location_encoded</th>\n",
       "    </tr>\n",
       "  </thead>\n",
       "  <tbody>\n",
       "    <tr>\n",
       "      <th>0</th>\n",
       "      <td>Albury</td>\n",
       "      <td>2</td>\n",
       "    </tr>\n",
       "    <tr>\n",
       "      <th>3040</th>\n",
       "      <td>BadgerysCreek</td>\n",
       "      <td>4</td>\n",
       "    </tr>\n",
       "    <tr>\n",
       "      <th>6049</th>\n",
       "      <td>Cobar</td>\n",
       "      <td>10</td>\n",
       "    </tr>\n",
       "  </tbody>\n",
       "</table>\n",
       "</div>"
      ],
      "text/plain": [
       "           Location  Location_encoded\n",
       "0            Albury                 2\n",
       "3040  BadgerysCreek                 4\n",
       "6049          Cobar                10"
      ]
     },
     "execution_count": 56,
     "metadata": {},
     "output_type": "execute_result"
    }
   ],
   "source": [
    "#Create the numeric feature\n",
    "weather['Location_encoded'] = weather.Location.replace(to_replace=locations)\n",
    "weather[['Location','Location_encoded']].drop_duplicates().head(3)"
   ]
  },
  {
   "cell_type": "markdown",
   "metadata": {},
   "source": [
    "## 2.2 Wind direction\n",
    "<img src=\"https://cdn.windfinder.com/prod/images/assets_png/wind_directions.dad84db0.png\">"
   ]
  },
  {
   "cell_type": "code",
   "execution_count": 72,
   "metadata": {},
   "outputs": [
    {
     "data": {
      "text/html": [
       "<div>\n",
       "<style scoped>\n",
       "    .dataframe tbody tr th:only-of-type {\n",
       "        vertical-align: middle;\n",
       "    }\n",
       "\n",
       "    .dataframe tbody tr th {\n",
       "        vertical-align: top;\n",
       "    }\n",
       "\n",
       "    .dataframe thead th {\n",
       "        text-align: right;\n",
       "    }\n",
       "</style>\n",
       "<table border=\"1\" class=\"dataframe\">\n",
       "  <thead>\n",
       "    <tr style=\"text-align: right;\">\n",
       "      <th></th>\n",
       "      <th>WindGustDir</th>\n",
       "      <th>WindDir9am</th>\n",
       "      <th>WindDir3pm</th>\n",
       "      <th>WindGustDir_encoded</th>\n",
       "      <th>WindDir9am_encoded</th>\n",
       "      <th>WindDir3pm_encoded</th>\n",
       "    </tr>\n",
       "  </thead>\n",
       "  <tbody>\n",
       "    <tr>\n",
       "      <th>0</th>\n",
       "      <td>W</td>\n",
       "      <td>W</td>\n",
       "      <td>WNW</td>\n",
       "      <td>12.0</td>\n",
       "      <td>12.0</td>\n",
       "      <td>13.0</td>\n",
       "    </tr>\n",
       "    <tr>\n",
       "      <th>1</th>\n",
       "      <td>WNW</td>\n",
       "      <td>NNW</td>\n",
       "      <td>WSW</td>\n",
       "      <td>13.0</td>\n",
       "      <td>15.0</td>\n",
       "      <td>11.0</td>\n",
       "    </tr>\n",
       "    <tr>\n",
       "      <th>2</th>\n",
       "      <td>WSW</td>\n",
       "      <td>W</td>\n",
       "      <td>WSW</td>\n",
       "      <td>11.0</td>\n",
       "      <td>12.0</td>\n",
       "      <td>11.0</td>\n",
       "    </tr>\n",
       "  </tbody>\n",
       "</table>\n",
       "</div>"
      ],
      "text/plain": [
       "  WindGustDir WindDir9am WindDir3pm  WindGustDir_encoded  WindDir9am_encoded  \\\n",
       "0           W          W        WNW                 12.0                12.0   \n",
       "1         WNW        NNW        WSW                 13.0                15.0   \n",
       "2         WSW          W        WSW                 11.0                12.0   \n",
       "\n",
       "   WindDir3pm_encoded  \n",
       "0                13.0  \n",
       "1                11.0  \n",
       "2                11.0  "
      ]
     },
     "execution_count": 72,
     "metadata": {},
     "output_type": "execute_result"
    }
   ],
   "source": [
    "wind_dir = {\n",
    "      'N': 0\n",
    "    , 'NNE': 1\n",
    "    , 'NE': 2\n",
    "    , 'ENE': 3\n",
    "    , 'E': 4\n",
    "    , 'ESE': 5\n",
    "    , 'SE': 6\n",
    "    , 'SSE': 7\n",
    "    , 'S': 8\n",
    "    , 'SSW': 9\n",
    "    , 'SW': 10\n",
    "    , 'WSW': 11\n",
    "    , 'W': 12\n",
    "    , 'WNW': 13\n",
    "    , 'NW': 14\n",
    "    , 'NNW': 15\n",
    "}\n",
    "weather['WindGustDir_encoded'] = weather.WindGustDir.replace(to_replace=wind_dir)\n",
    "weather['WindDir9am_encoded'] = weather.WindDir9am.replace(to_replace=wind_dir)\n",
    "weather['WindDir3pm_encoded'] = weather.WindDir3pm.replace(to_replace=wind_dir)\n",
    "weather[['WindGustDir','WindDir9am','WindDir3pm',\n",
    "         'WindGustDir_encoded','WindDir9am_encoded','WindDir3pm_encoded']].drop_duplicates().head(3)"
   ]
  },
  {
   "cell_type": "markdown",
   "metadata": {},
   "source": [
    "# 3. Save table as the master table for modelling      "
   ]
  },
  {
   "cell_type": "code",
   "execution_count": 73,
   "metadata": {},
   "outputs": [],
   "source": [
    "weather.to_parquet('../data/04_model_input/master.parquet')"
   ]
  }
 ],
 "metadata": {
  "kernelspec": {
   "display_name": "Python 3",
   "language": "python",
   "name": "python3"
  },
  "language_info": {
   "codemirror_mode": {
    "name": "ipython",
    "version": 3
   },
   "file_extension": ".py",
   "mimetype": "text/x-python",
   "name": "python",
   "nbconvert_exporter": "python",
   "pygments_lexer": "ipython3",
   "version": "3.7.9"
  }
 },
 "nbformat": 4,
 "nbformat_minor": 4
}
