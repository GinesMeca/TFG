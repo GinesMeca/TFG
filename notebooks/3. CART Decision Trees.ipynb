{
 "cells": [
  {
   "cell_type": "markdown",
   "metadata": {},
   "source": [
    "# 3. CART Decision Trees\n",
    "\n",
    "This notebook will show different examples of CART decision trees.\n",
    "The dataset used for them is [Rain in Australia](https://www.kaggle.com/jsphyg/weather-dataset-rattle-package) challenge from Kaggle. It contains about 10 years of daily weather observations from many locations across Australia. \n",
    "\n",
    "### Index:\n",
    "1. [Packages required](#1.-Packages-required)\n",
    "2. [Loading data](#2.-Loading-data)\n",
    "3. [Example 1](#3.-Example-1)\n",
    "4. [Example 2](#4.-Example-2)\n",
    "5. [Printing tex table](5#.-Printing-tex-table)"
   ]
  },
  {
   "cell_type": "markdown",
   "metadata": {},
   "source": [
    "# 1. Packages required"
   ]
  },
  {
   "cell_type": "code",
   "execution_count": 1,
   "metadata": {},
   "outputs": [],
   "source": [
    "import os\n",
    "import numpy as np\n",
    "import pandas as pd\n",
    "from sklearn.tree import DecisionTreeClassifier, plot_tree\n",
    "import matplotlib.pyplot as plt\n",
    "from sklearn.metrics import roc_auc_score\n",
    "import time"
   ]
  },
  {
   "cell_type": "markdown",
   "metadata": {},
   "source": [
    "# 2. Loading data"
   ]
  },
  {
   "cell_type": "code",
   "execution_count": 2,
   "metadata": {},
   "outputs": [
    {
     "data": {
      "text/html": [
       "<div>\n",
       "<style scoped>\n",
       "    .dataframe tbody tr th:only-of-type {\n",
       "        vertical-align: middle;\n",
       "    }\n",
       "\n",
       "    .dataframe tbody tr th {\n",
       "        vertical-align: top;\n",
       "    }\n",
       "\n",
       "    .dataframe thead th {\n",
       "        text-align: right;\n",
       "    }\n",
       "</style>\n",
       "<table border=\"1\" class=\"dataframe\">\n",
       "  <thead>\n",
       "    <tr style=\"text-align: right;\">\n",
       "      <th></th>\n",
       "      <th>Date</th>\n",
       "      <th>Location</th>\n",
       "      <th>MinTemp</th>\n",
       "      <th>MaxTemp</th>\n",
       "      <th>Rainfall</th>\n",
       "      <th>Evaporation</th>\n",
       "      <th>Sunshine</th>\n",
       "      <th>WindGustDir</th>\n",
       "      <th>WindGustSpeed</th>\n",
       "      <th>WindDir9am</th>\n",
       "      <th>...</th>\n",
       "      <th>Location.Walpole</th>\n",
       "      <th>Location.Hobart</th>\n",
       "      <th>Location.Launceston</th>\n",
       "      <th>Location.AliceSprings</th>\n",
       "      <th>Location.Darwin</th>\n",
       "      <th>Location.Katherine</th>\n",
       "      <th>Location.Uluru</th>\n",
       "      <th>WindGustDir_encoded</th>\n",
       "      <th>WindDir9am_encoded</th>\n",
       "      <th>WindDir3pm_encoded</th>\n",
       "    </tr>\n",
       "  </thead>\n",
       "  <tbody>\n",
       "    <tr>\n",
       "      <th>0</th>\n",
       "      <td>2008-12-01</td>\n",
       "      <td>Albury</td>\n",
       "      <td>13.4</td>\n",
       "      <td>22.9</td>\n",
       "      <td>0.6</td>\n",
       "      <td>NaN</td>\n",
       "      <td>NaN</td>\n",
       "      <td>W</td>\n",
       "      <td>44.0</td>\n",
       "      <td>W</td>\n",
       "      <td>...</td>\n",
       "      <td>0</td>\n",
       "      <td>0</td>\n",
       "      <td>0</td>\n",
       "      <td>0</td>\n",
       "      <td>0</td>\n",
       "      <td>0</td>\n",
       "      <td>0</td>\n",
       "      <td>12.0</td>\n",
       "      <td>12.0</td>\n",
       "      <td>13.0</td>\n",
       "    </tr>\n",
       "    <tr>\n",
       "      <th>1</th>\n",
       "      <td>2008-12-02</td>\n",
       "      <td>Albury</td>\n",
       "      <td>7.4</td>\n",
       "      <td>25.1</td>\n",
       "      <td>0.0</td>\n",
       "      <td>NaN</td>\n",
       "      <td>NaN</td>\n",
       "      <td>WNW</td>\n",
       "      <td>44.0</td>\n",
       "      <td>NNW</td>\n",
       "      <td>...</td>\n",
       "      <td>0</td>\n",
       "      <td>0</td>\n",
       "      <td>0</td>\n",
       "      <td>0</td>\n",
       "      <td>0</td>\n",
       "      <td>0</td>\n",
       "      <td>0</td>\n",
       "      <td>13.0</td>\n",
       "      <td>15.0</td>\n",
       "      <td>11.0</td>\n",
       "    </tr>\n",
       "    <tr>\n",
       "      <th>2</th>\n",
       "      <td>2008-12-03</td>\n",
       "      <td>Albury</td>\n",
       "      <td>12.9</td>\n",
       "      <td>25.7</td>\n",
       "      <td>0.0</td>\n",
       "      <td>NaN</td>\n",
       "      <td>NaN</td>\n",
       "      <td>WSW</td>\n",
       "      <td>46.0</td>\n",
       "      <td>W</td>\n",
       "      <td>...</td>\n",
       "      <td>0</td>\n",
       "      <td>0</td>\n",
       "      <td>0</td>\n",
       "      <td>0</td>\n",
       "      <td>0</td>\n",
       "      <td>0</td>\n",
       "      <td>0</td>\n",
       "      <td>11.0</td>\n",
       "      <td>12.0</td>\n",
       "      <td>11.0</td>\n",
       "    </tr>\n",
       "    <tr>\n",
       "      <th>3</th>\n",
       "      <td>2008-12-04</td>\n",
       "      <td>Albury</td>\n",
       "      <td>9.2</td>\n",
       "      <td>28.0</td>\n",
       "      <td>0.0</td>\n",
       "      <td>NaN</td>\n",
       "      <td>NaN</td>\n",
       "      <td>NE</td>\n",
       "      <td>24.0</td>\n",
       "      <td>SE</td>\n",
       "      <td>...</td>\n",
       "      <td>0</td>\n",
       "      <td>0</td>\n",
       "      <td>0</td>\n",
       "      <td>0</td>\n",
       "      <td>0</td>\n",
       "      <td>0</td>\n",
       "      <td>0</td>\n",
       "      <td>2.0</td>\n",
       "      <td>6.0</td>\n",
       "      <td>4.0</td>\n",
       "    </tr>\n",
       "    <tr>\n",
       "      <th>4</th>\n",
       "      <td>2008-12-05</td>\n",
       "      <td>Albury</td>\n",
       "      <td>17.5</td>\n",
       "      <td>32.3</td>\n",
       "      <td>1.0</td>\n",
       "      <td>NaN</td>\n",
       "      <td>NaN</td>\n",
       "      <td>W</td>\n",
       "      <td>41.0</td>\n",
       "      <td>ENE</td>\n",
       "      <td>...</td>\n",
       "      <td>0</td>\n",
       "      <td>0</td>\n",
       "      <td>0</td>\n",
       "      <td>0</td>\n",
       "      <td>0</td>\n",
       "      <td>0</td>\n",
       "      <td>0</td>\n",
       "      <td>12.0</td>\n",
       "      <td>3.0</td>\n",
       "      <td>14.0</td>\n",
       "    </tr>\n",
       "  </tbody>\n",
       "</table>\n",
       "<p>5 rows × 78 columns</p>\n",
       "</div>"
      ],
      "text/plain": [
       "        Date Location  MinTemp  MaxTemp  Rainfall  Evaporation  Sunshine  \\\n",
       "0 2008-12-01   Albury     13.4     22.9       0.6          NaN       NaN   \n",
       "1 2008-12-02   Albury      7.4     25.1       0.0          NaN       NaN   \n",
       "2 2008-12-03   Albury     12.9     25.7       0.0          NaN       NaN   \n",
       "3 2008-12-04   Albury      9.2     28.0       0.0          NaN       NaN   \n",
       "4 2008-12-05   Albury     17.5     32.3       1.0          NaN       NaN   \n",
       "\n",
       "  WindGustDir  WindGustSpeed WindDir9am  ... Location.Walpole  \\\n",
       "0           W           44.0          W  ...                0   \n",
       "1         WNW           44.0        NNW  ...                0   \n",
       "2         WSW           46.0          W  ...                0   \n",
       "3          NE           24.0         SE  ...                0   \n",
       "4           W           41.0        ENE  ...                0   \n",
       "\n",
       "   Location.Hobart  Location.Launceston  Location.AliceSprings  \\\n",
       "0                0                    0                      0   \n",
       "1                0                    0                      0   \n",
       "2                0                    0                      0   \n",
       "3                0                    0                      0   \n",
       "4                0                    0                      0   \n",
       "\n",
       "   Location.Darwin  Location.Katherine  Location.Uluru  WindGustDir_encoded  \\\n",
       "0                0                   0               0                 12.0   \n",
       "1                0                   0               0                 13.0   \n",
       "2                0                   0               0                 11.0   \n",
       "3                0                   0               0                  2.0   \n",
       "4                0                   0               0                 12.0   \n",
       "\n",
       "   WindDir9am_encoded  WindDir3pm_encoded  \n",
       "0                12.0                13.0  \n",
       "1                15.0                11.0  \n",
       "2                12.0                11.0  \n",
       "3                 6.0                 4.0  \n",
       "4                 3.0                14.0  \n",
       "\n",
       "[5 rows x 78 columns]"
      ]
     },
     "execution_count": 2,
     "metadata": {},
     "output_type": "execute_result"
    }
   ],
   "source": [
    "weather = pd.read_parquet('../data/04_model_input/master.parquet')\n",
    "weather.head()"
   ]
  },
  {
   "cell_type": "markdown",
   "metadata": {},
   "source": [
    "# 3. Example 1"
   ]
  },
  {
   "cell_type": "markdown",
   "metadata": {},
   "source": [
    "We are interested in show how is, graphically, a decision tree. We build one focus on predict 'RainTomorrow' with only two dependent variables (to graph it) and with maximum depth equals to 3. The dependent variables we will choose are: 'Humidity3pm' and 'Cloud3pm'.\n",
    "\n",
    "We will choose train/test data according to an Out-Of-Time validation, with the purpose of knowing how well it works when the task is predict future values."
   ]
  },
  {
   "cell_type": "code",
   "execution_count": 3,
   "metadata": {},
   "outputs": [],
   "source": [
    "#We fix the variables we are interested in and the date to separate data:\n",
    "test_date = '2015-01-01'\n",
    "model_columns = ['Humidity3pm', 'Cloud3pm']"
   ]
  },
  {
   "cell_type": "code",
   "execution_count": 4,
   "metadata": {},
   "outputs": [],
   "source": [
    "#We separate in train/test data and solve Nan problems:\n",
    "train = weather[weather.Date < test_date].fillna(-1)\n",
    "test = weather[weather.Date >= test_date].fillna(-1)"
   ]
  },
  {
   "cell_type": "code",
   "execution_count": 7,
   "metadata": {},
   "outputs": [
    {
     "data": {
      "text/plain": [
       "DecisionTreeClassifier(max_depth=2)"
      ]
     },
     "execution_count": 7,
     "metadata": {},
     "output_type": "execute_result"
    }
   ],
   "source": [
    "#We generate our decision tree for classification:\n",
    "model_tree = DecisionTreeClassifier(max_depth = 2)\n",
    "model_tree.fit(train[model_columns],train.RainTomorrow)"
   ]
  },
  {
   "cell_type": "code",
   "execution_count": 17,
   "metadata": {},
   "outputs": [
    {
     "data": {
      "image/png": "[encoded data removed]",
      "text/plain": [
       "<Figure size 1080x720 with 1 Axes>"
      ]
     },
     "metadata": {
      "needs_background": "light"
     },
     "output_type": "display_data"
    }
   ],
   "source": [
    "plt.figure(figsize = (15, 10))\n",
    "plot_tree(model_tree, feature_names = model_columns, filled = True, impurity = False, proportion = True);"
   ]
  },
  {
   "cell_type": "code",
   "execution_count": 14,
   "metadata": {},
   "outputs": [
    {
     "data": {
      "image/png": "[encoded data removed]",
      "text/plain": [
       "<Figure size 432x288 with 1 Axes>"
      ]
     },
     "metadata": {
      "needs_background": "light"
     },
     "output_type": "display_data"
    }
   ],
   "source": [
    "x_ex1 = weather[model_columns].fillna(-1)\n",
    "y_ex1 = weather.RainTomorrow\n",
    "\n",
    "n_classes = 2\n",
    "plot_colors = 'br'\n",
    "plot_step = 0.02\n",
    "\n",
    "x_min, x_max = x_ex1['Humidity3pm'].min() - 1, x_ex1['Humidity3pm'].max() + 1\n",
    "y_min, y_max = x_ex1['Cloud3pm'].min() - 1, x_ex1['Cloud3pm'].max() + 1\n",
    "xx, yy = np.meshgrid(np.arange(x_min, x_max, plot_step), np.arange(y_min, y_max, plot_step))\n",
    "\n",
    "z = model_tree.predict(np.c_[xx.ravel(), yy.ravel()])\n",
    "z = z.reshape(xx.shape)\n",
    "cs = plt.contourf(xx, yy, z, cmap = plt.cm.Paired)\n",
    "\n",
    "plt.xlabel('Humidity3pm')\n",
    "plt.ylabel('Cloud3pm')\n",
    "plt.axis('tight')\n",
    "\n",
    "for i, color in zip(range(n_classes), plot_colors):\n",
    "    idx = np.where(y_ex1 == i)[0]\n",
    "    x_graph = []\n",
    "    y_graph = []\n",
    "    for j in idx:\n",
    "        x_graph += [x_ex1.Humidity3pm.iloc[j]]\n",
    "        y_graph += [x_ex1.Cloud3pm.iloc[j]]\n",
    "        \n",
    "    plt.scatter(x_graph, y_graph, c = color, label = ['No', 'Yes'][i] , cmap = plt.cm.Paired)\n",
    "    \n",
    "plt.axis('tight')\n",
    "    \n",
    "plt.title('Particiones del espacio')\n",
    "plt.legend(loc = 'upper right')\n",
    "plt.show()"
   ]
  },
  {
   "cell_type": "markdown",
   "metadata": {},
   "source": [
    "# 4. Example 2"
   ]
  },
  {
   "cell_type": "markdown",
   "metadata": {},
   "source": [
    "Now, we are interested in building a decision tree focus on predict 'RainTomorrow' based in all available variables. We will use train/test data from the last example.\n",
    "\n",
    "Also, we will compare the result with different max_depth values to conclude which is the optimal value."
   ]
  },
  {
   "cell_type": "code",
   "execution_count": 15,
   "metadata": {},
   "outputs": [],
   "source": [
    "#We fix the variables we are interested in and the date to separate data:\n",
    "test_date = '2015-01-01'\n",
    "\n",
    "model_columns = list(set(weather.select_dtypes(include='number').columns) - set(['RainTomorrow']))"
   ]
  },
  {
   "cell_type": "code",
   "execution_count": 16,
   "metadata": {},
   "outputs": [],
   "source": [
    "#We separate in train/test data and solve Nan problems:\n",
    "train = weather[weather.Date < test_date].fillna(-1)\n",
    "test = weather[weather.Date >= test_date].fillna(-1)"
   ]
  },
  {
   "cell_type": "code",
   "execution_count": 17,
   "metadata": {},
   "outputs": [
    {
     "data": {
      "text/html": [
       "<div>\n",
       "<style scoped>\n",
       "    .dataframe tbody tr th:only-of-type {\n",
       "        vertical-align: middle;\n",
       "    }\n",
       "\n",
       "    .dataframe tbody tr th {\n",
       "        vertical-align: top;\n",
       "    }\n",
       "\n",
       "    .dataframe thead th {\n",
       "        text-align: right;\n",
       "    }\n",
       "</style>\n",
       "<table border=\"1\" class=\"dataframe\">\n",
       "  <thead>\n",
       "    <tr style=\"text-align: right;\">\n",
       "      <th></th>\n",
       "      <th>Run_Time</th>\n",
       "      <th>Train_Gini</th>\n",
       "      <th>Test_Gini</th>\n",
       "      <th>delta%</th>\n",
       "    </tr>\n",
       "  </thead>\n",
       "  <tbody>\n",
       "    <tr>\n",
       "      <th>DT_1</th>\n",
       "      <td>0.281579</td>\n",
       "      <td>0.356810</td>\n",
       "      <td>0.324403</td>\n",
       "      <td>-9.082368</td>\n",
       "    </tr>\n",
       "    <tr>\n",
       "      <th>DT_3</th>\n",
       "      <td>0.436356</td>\n",
       "      <td>0.576891</td>\n",
       "      <td>0.564835</td>\n",
       "      <td>-2.089953</td>\n",
       "    </tr>\n",
       "    <tr>\n",
       "      <th>DT_5</th>\n",
       "      <td>0.704568</td>\n",
       "      <td>0.655905</td>\n",
       "      <td>0.628047</td>\n",
       "      <td>-4.247221</td>\n",
       "    </tr>\n",
       "    <tr>\n",
       "      <th>DT_10</th>\n",
       "      <td>1.180279</td>\n",
       "      <td>0.770627</td>\n",
       "      <td>0.604319</td>\n",
       "      <td>-21.580894</td>\n",
       "    </tr>\n",
       "    <tr>\n",
       "      <th>DT_15</th>\n",
       "      <td>1.792843</td>\n",
       "      <td>0.906248</td>\n",
       "      <td>0.438515</td>\n",
       "      <td>-51.611995</td>\n",
       "    </tr>\n",
       "    <tr>\n",
       "      <th>DT_20</th>\n",
       "      <td>1.973215</td>\n",
       "      <td>0.983012</td>\n",
       "      <td>0.317616</td>\n",
       "      <td>-67.689528</td>\n",
       "    </tr>\n",
       "    <tr>\n",
       "      <th>DT_30</th>\n",
       "      <td>2.318780</td>\n",
       "      <td>0.999920</td>\n",
       "      <td>0.362719</td>\n",
       "      <td>-63.725250</td>\n",
       "    </tr>\n",
       "  </tbody>\n",
       "</table>\n",
       "</div>"
      ],
      "text/plain": [
       "       Run_Time  Train_Gini  Test_Gini     delta%\n",
       "DT_1   0.281579    0.356810   0.324403  -9.082368\n",
       "DT_3   0.436356    0.576891   0.564835  -2.089953\n",
       "DT_5   0.704568    0.655905   0.628047  -4.247221\n",
       "DT_10  1.180279    0.770627   0.604319 -21.580894\n",
       "DT_15  1.792843    0.906248   0.438515 -51.611995\n",
       "DT_20  1.973215    0.983012   0.317616 -67.689528\n",
       "DT_30  2.318780    0.999920   0.362719 -63.725250"
      ]
     },
     "execution_count": 17,
     "metadata": {},
     "output_type": "execute_result"
    }
   ],
   "source": [
    "#We generate our decision trees:\n",
    "metrics = {}\n",
    "for max_depth in [1, 3, 5, 10, 15, 20, 30]:\n",
    "    start_time = time.time()\n",
    "    model = DecisionTreeClassifier(max_depth = max_depth)\n",
    "    model.fit(train[model_columns],train.RainTomorrow);\n",
    "    \n",
    "    train_pred = model.predict_proba(train[model_columns])[:, 1]\n",
    "    test_pred = model.predict_proba(test[model_columns])[:, 1]\n",
    "\n",
    "    metrics['DT_'+ str(max_depth)] = {\n",
    "        'Train_Gini': 2*roc_auc_score(train.RainTomorrow, train_pred)-1,\n",
    "        'Test_Gini': 2*roc_auc_score(test.RainTomorrow, test_pred)-1,\n",
    "        'Run_Time': time.time() - start_time,\n",
    "    }\n",
    "\n",
    "metrics_pd = pd.DataFrame.from_dict(metrics, orient='index',columns=['Run_Time', 'Train_Gini', 'Test_Gini'])\n",
    "metrics_pd['delta%'] = 100*(metrics_pd.Test_Gini - metrics_pd.Train_Gini) / metrics_pd.Train_Gini\n",
    "metrics_pd"
   ]
  },
  {
   "cell_type": "code",
   "execution_count": 11,
   "metadata": {},
   "outputs": [],
   "source": [
    "metrics_pd.to_parquet('../data/models/cart.parquet')"
   ]
  },
  {
   "cell_type": "markdown",
   "metadata": {},
   "source": [
    "Let's see the difference between $Train\\_Gini$ and $Test\\_Gini$ evolution:"
   ]
  },
  {
   "cell_type": "code",
   "execution_count": 18,
   "metadata": {},
   "outputs": [
    {
     "data": {
      "image/png": "[encoded data removed]",
      "text/plain": [
       "<Figure size 432x288 with 1 Axes>"
      ]
     },
     "metadata": {
      "needs_background": "light"
     },
     "output_type": "display_data"
    }
   ],
   "source": [
    "x = [1, 3, 5, 10, 15, 20, 30]\n",
    "GINITRAIN = list(metrics_pd.Train_Gini)\n",
    "GINITEST = list(metrics_pd.Test_Gini)\n",
    "\n",
    "plt.plot(x, GINITRAIN, c = 'red', label = 'Train')\n",
    "plt.scatter(x, GINITRAIN, c = 'red')\n",
    "plt.plot(x, GINITEST, c = 'green', label = 'Test')\n",
    "plt.scatter(x, GINITEST, c = 'green')\n",
    "plt.xlabel('Profundidad máxima')\n",
    "plt.ylabel('Gini')\n",
    "plt.title('Evolución de la precisión')\n",
    "plt.legend(loc = 'best')\n",
    "plt.show()"
   ]
  },
  {
   "cell_type": "markdown",
   "metadata": {},
   "source": [
    "# 5. Printing tex table"
   ]
  },
  {
   "cell_type": "code",
   "execution_count": 6,
   "metadata": {},
   "outputs": [
    {
     "data": {
      "text/html": [
       "<div>\n",
       "<style scoped>\n",
       "    .dataframe tbody tr th:only-of-type {\n",
       "        vertical-align: middle;\n",
       "    }\n",
       "\n",
       "    .dataframe tbody tr th {\n",
       "        vertical-align: top;\n",
       "    }\n",
       "\n",
       "    .dataframe thead th {\n",
       "        text-align: right;\n",
       "    }\n",
       "</style>\n",
       "<table border=\"1\" class=\"dataframe\">\n",
       "  <thead>\n",
       "    <tr style=\"text-align: right;\">\n",
       "      <th></th>\n",
       "      <th>Run_Time</th>\n",
       "      <th>Train_Gini%</th>\n",
       "      <th>Test_Gini%</th>\n",
       "      <th>delta%</th>\n",
       "    </tr>\n",
       "  </thead>\n",
       "  <tbody>\n",
       "    <tr>\n",
       "      <th>DT_1</th>\n",
       "      <td>0.3</td>\n",
       "      <td>36.0</td>\n",
       "      <td>32.0</td>\n",
       "      <td>-9.0</td>\n",
       "    </tr>\n",
       "    <tr>\n",
       "      <th>DT_3</th>\n",
       "      <td>0.5</td>\n",
       "      <td>58.0</td>\n",
       "      <td>56.0</td>\n",
       "      <td>-2.0</td>\n",
       "    </tr>\n",
       "    <tr>\n",
       "      <th>DT_5</th>\n",
       "      <td>0.7</td>\n",
       "      <td>66.0</td>\n",
       "      <td>63.0</td>\n",
       "      <td>-4.0</td>\n",
       "    </tr>\n",
       "    <tr>\n",
       "      <th>DT_10</th>\n",
       "      <td>1.2</td>\n",
       "      <td>77.0</td>\n",
       "      <td>61.0</td>\n",
       "      <td>-21.0</td>\n",
       "    </tr>\n",
       "    <tr>\n",
       "      <th>DT_15</th>\n",
       "      <td>1.7</td>\n",
       "      <td>91.0</td>\n",
       "      <td>43.0</td>\n",
       "      <td>-52.0</td>\n",
       "    </tr>\n",
       "    <tr>\n",
       "      <th>DT_20</th>\n",
       "      <td>2.1</td>\n",
       "      <td>98.0</td>\n",
       "      <td>31.0</td>\n",
       "      <td>-68.0</td>\n",
       "    </tr>\n",
       "    <tr>\n",
       "      <th>DT_30</th>\n",
       "      <td>2.1</td>\n",
       "      <td>100.0</td>\n",
       "      <td>36.0</td>\n",
       "      <td>-64.0</td>\n",
       "    </tr>\n",
       "  </tbody>\n",
       "</table>\n",
       "</div>"
      ],
      "text/plain": [
       "       Run_Time  Train_Gini%  Test_Gini%  delta%\n",
       "DT_1        0.3         36.0        32.0    -9.0\n",
       "DT_3        0.5         58.0        56.0    -2.0\n",
       "DT_5        0.7         66.0        63.0    -4.0\n",
       "DT_10       1.2         77.0        61.0   -21.0\n",
       "DT_15       1.7         91.0        43.0   -52.0\n",
       "DT_20       2.1         98.0        31.0   -68.0\n",
       "DT_30       2.1        100.0        36.0   -64.0"
      ]
     },
     "execution_count": 6,
     "metadata": {},
     "output_type": "execute_result"
    }
   ],
   "source": [
    "metrics2 = pd.read_parquet('../data/models/cart.parquet')\n",
    "metrics2['Run_Time'] = round(metrics2.Run_Time, 1)\n",
    "metrics2['Train_Gini%'] = np.where(metrics2.Train_Gini != None, round(100*metrics2.Train_Gini, 0), 0)\n",
    "metrics2['Test_Gini%'] = np.where(metrics2.Test_Gini != None, round(100*metrics2.Test_Gini, 0), 0)\n",
    "metrics2['delta%'] = round(metrics2['delta%'], 0)\n",
    "metrics2[['Run_Time', 'Train_Gini%', 'Test_Gini%', 'delta%']]"
   ]
  },
  {
   "cell_type": "code",
   "execution_count": 7,
   "metadata": {},
   "outputs": [],
   "source": [
    "metrics2.to_parquet('../data/models/cart2.parquet')"
   ]
  }
 ],
 "metadata": {
  "kernelspec": {
   "display_name": "Python 3",
   "language": "python",
   "name": "python3"
  },
  "language_info": {
   "codemirror_mode": {
    "name": "ipython",
    "version": 3
   },
   "file_extension": ".py",
   "mimetype": "text/x-python",
   "name": "python",
   "nbconvert_exporter": "python",
   "pygments_lexer": "ipython3",
   "version": "3.8.5"
  }
 },
 "nbformat": 4,
 "nbformat_minor": 4
}
